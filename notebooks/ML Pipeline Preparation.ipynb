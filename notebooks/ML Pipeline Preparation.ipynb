{
 "cells": [
  {
   "cell_type": "markdown",
   "metadata": {},
   "source": [
    "# ML Pipeline Preparation\n",
    "Follow the instructions below to help you create your ML pipeline.\n",
    "### 1. Import libraries and load data from database.\n",
    "- Import Python libraries\n",
    "- Load dataset from database with [`read_sql_table`](https://pandas.pydata.org/pandas-docs/stable/generated/pandas.read_sql_table.html)\n",
    "- Define feature and target variables X and Y"
   ]
  },
  {
   "cell_type": "code",
   "execution_count": 1,
   "metadata": {},
   "outputs": [
    {
     "name": "stderr",
     "output_type": "stream",
     "text": [
      "[nltk_data] Downloading package stopwords to\n",
      "[nltk_data]     /Users/RobertSmith/nltk_data...\n",
      "[nltk_data]   Package stopwords is already up-to-date!\n",
      "[nltk_data] Downloading package punkt to\n",
      "[nltk_data]     /Users/RobertSmith/nltk_data...\n",
      "[nltk_data]   Package punkt is already up-to-date!\n",
      "[nltk_data] Downloading package wordnet to\n",
      "[nltk_data]     /Users/RobertSmith/nltk_data...\n",
      "[nltk_data]   Package wordnet is already up-to-date!\n"
     ]
    }
   ],
   "source": [
    "# import libraries\n",
    "from sqlalchemy import create_engine\n",
    "import pandas as pd\n",
    "import re\n",
    "from matplotlib import pyplot as plt\n",
    "\n",
    "# NLP\n",
    "import nltk\n",
    "nltk.download(['stopwords','punkt', 'wordnet'])\n",
    "from nltk.tokenize import word_tokenize\n",
    "from nltk.corpus import stopwords\n",
    "from nltk.stem.wordnet import WordNetLemmatizer\n",
    "\n",
    "# Scikit-Learn\n",
    "from sklearn.pipeline import Pipeline\n",
    "from sklearn.metrics import confusion_matrix, classification_report, f1_score\n",
    "from sklearn.model_selection import GridSearchCV\n",
    "from sklearn.ensemble import RandomForestClassifier\n",
    "from sklearn.model_selection import train_test_split\n",
    "from sklearn.multioutput import MultiOutputClassifier\n",
    "from sklearn.feature_extraction.text import CountVectorizer, TfidfTransformer"
   ]
  },
  {
   "cell_type": "code",
   "execution_count": 2,
   "metadata": {},
   "outputs": [],
   "source": [
    "# load data from database\n",
    "engine = create_engine('sqlite:///../data/disaster_response.db')\n",
    "df = pd.read_sql(\"SELECT * FROM messages;\", con = engine)\n",
    "X = df[\"message\"]\n",
    "Y = df[['medical_products', 'search_and_rescue', 'security', 'military',\n",
    "       'child_alone', 'water', 'food', 'shelter', 'clothing', 'money',\n",
    "       'missing_people', 'refugees', 'death', 'other_aid',\n",
    "       'infrastructure_related', 'transport', 'buildings', 'electricity',\n",
    "       'tools', 'hospitals', 'shops', 'aid_centers', 'other_infrastructure',\n",
    "       'weather_related', 'floods', 'storm', 'fire', 'earthquake', 'cold',\n",
    "       'other_weather', 'direct_report']]"
   ]
  },
  {
   "cell_type": "markdown",
   "metadata": {},
   "source": [
    "### 2. Write a tokenization function to process your text data\n",
    "Tokenization steps:\n",
    "1. normalize\n",
    "2. remove punctuation\n",
    "3. tokenize\n",
    "4. remove stopwords\n",
    "5. lemmatize\n"
   ]
  },
  {
   "cell_type": "code",
   "execution_count": 4,
   "metadata": {},
   "outputs": [],
   "source": [
    "def tokenize(text):\n",
    "    text = text.lower()\n",
    "    text = re.sub(r\"[^A-Za-z0-9]\", \" \",text)\n",
    "    words = word_tokenize(text)\n",
    "    words = [w for w in words if w not in stopwords.words(\"english\")]\n",
    "    words = [WordNetLemmatizer().lemmatize(w) for w in words]\n",
    "    return words"
   ]
  },
  {
   "cell_type": "markdown",
   "metadata": {},
   "source": [
    "### 3. Build a machine learning pipeline\n",
    "This machine pipeline should take in the `message` column as input and output classification results on the other 36 categories in the dataset. You may find the [MultiOutputClassifier](http://scikit-learn.org/stable/modules/generated/sklearn.multioutput.MultiOutputClassifier.html) helpful for predicting multiple target variables."
   ]
  },
  {
   "cell_type": "code",
   "execution_count": 64,
   "metadata": {},
   "outputs": [],
   "source": [
    "pipeline = Pipeline([\n",
    "    (\"vect\", CountVectorizer(tokenizer = tokenize)),\n",
    "    (\"tfidf\", TfidfTransformer()),\n",
    "    (\"clf\", MultiOutputClassifier(RandomForestClassifier()))\n",
    "    ])"
   ]
  },
  {
   "cell_type": "markdown",
   "metadata": {},
   "source": [
    "### 4. Train pipeline\n",
    "- Split data into train and test sets\n",
    "- Train pipeline"
   ]
  },
  {
   "cell_type": "code",
   "execution_count": 78,
   "metadata": {},
   "outputs": [
    {
     "data": {
      "text/plain": [
       "Index(['medical_products', 'search_and_rescue', 'security', 'military',\n",
       "       'child_alone', 'water', 'food', 'shelter', 'clothing', 'money',\n",
       "       'missing_people', 'refugees', 'death', 'other_aid',\n",
       "       'infrastructure_related', 'transport', 'buildings', 'electricity',\n",
       "       'tools', 'hospitals', 'shops', 'aid_centers', 'other_infrastructure',\n",
       "       'weather_related', 'floods', 'storm', 'fire', 'earthquake', 'cold',\n",
       "       'other_weather', 'direct_report'],\n",
       "      dtype='object')"
      ]
     },
     "execution_count": 78,
     "metadata": {},
     "output_type": "execute_result"
    }
   ],
   "source": [
    "Y.columns"
   ]
  },
  {
   "cell_type": "code",
   "execution_count": 79,
   "metadata": {},
   "outputs": [
    {
     "ename": "ValueError",
     "evalue": "The least populated class in y has only 1 member, which is too few. The minimum number of groups for any class cannot be less than 2.",
     "output_type": "error",
     "traceback": [
      "\u001b[0;31m---------------------------------------------------------------------------\u001b[0m",
      "\u001b[0;31mValueError\u001b[0m                                Traceback (most recent call last)",
      "\u001b[0;32m<ipython-input-79-f1020cd5e385>\u001b[0m in \u001b[0;36m<module>\u001b[0;34m\u001b[0m\n\u001b[0;32m----> 1\u001b[0;31m \u001b[0mX_train\u001b[0m\u001b[0;34m,\u001b[0m \u001b[0mX_test\u001b[0m\u001b[0;34m,\u001b[0m \u001b[0my_train\u001b[0m\u001b[0;34m,\u001b[0m \u001b[0my_test\u001b[0m \u001b[0;34m=\u001b[0m \u001b[0mtrain_test_split\u001b[0m\u001b[0;34m(\u001b[0m\u001b[0mX\u001b[0m\u001b[0;34m,\u001b[0m \u001b[0mY\u001b[0m\u001b[0;34m,\u001b[0m \u001b[0mtest_size\u001b[0m \u001b[0;34m=\u001b[0m \u001b[0;36m0.3\u001b[0m\u001b[0;34m,\u001b[0m \u001b[0mrandom_state\u001b[0m \u001b[0;34m=\u001b[0m \u001b[0;36m42\u001b[0m\u001b[0;34m,\u001b[0m \u001b[0mstratify\u001b[0m \u001b[0;34m=\u001b[0m \u001b[0mY\u001b[0m\u001b[0;34m)\u001b[0m\u001b[0;34m\u001b[0m\u001b[0;34m\u001b[0m\u001b[0m\n\u001b[0m",
      "\u001b[0;32m~/PycharmProjects/disaster-response-pipeline/venv/lib/python3.8/site-packages/sklearn/model_selection/_split.py\u001b[0m in \u001b[0;36mtrain_test_split\u001b[0;34m(*arrays, **options)\u001b[0m\n\u001b[1;32m   2150\u001b[0m                      random_state=random_state)\n\u001b[1;32m   2151\u001b[0m \u001b[0;34m\u001b[0m\u001b[0m\n\u001b[0;32m-> 2152\u001b[0;31m         \u001b[0mtrain\u001b[0m\u001b[0;34m,\u001b[0m \u001b[0mtest\u001b[0m \u001b[0;34m=\u001b[0m \u001b[0mnext\u001b[0m\u001b[0;34m(\u001b[0m\u001b[0mcv\u001b[0m\u001b[0;34m.\u001b[0m\u001b[0msplit\u001b[0m\u001b[0;34m(\u001b[0m\u001b[0mX\u001b[0m\u001b[0;34m=\u001b[0m\u001b[0marrays\u001b[0m\u001b[0;34m[\u001b[0m\u001b[0;36m0\u001b[0m\u001b[0;34m]\u001b[0m\u001b[0;34m,\u001b[0m \u001b[0my\u001b[0m\u001b[0;34m=\u001b[0m\u001b[0mstratify\u001b[0m\u001b[0;34m)\u001b[0m\u001b[0;34m)\u001b[0m\u001b[0;34m\u001b[0m\u001b[0;34m\u001b[0m\u001b[0m\n\u001b[0m\u001b[1;32m   2153\u001b[0m \u001b[0;34m\u001b[0m\u001b[0m\n\u001b[1;32m   2154\u001b[0m     return list(chain.from_iterable((_safe_indexing(a, train),\n",
      "\u001b[0;32m~/PycharmProjects/disaster-response-pipeline/venv/lib/python3.8/site-packages/sklearn/model_selection/_split.py\u001b[0m in \u001b[0;36msplit\u001b[0;34m(self, X, y, groups)\u001b[0m\n\u001b[1;32m   1339\u001b[0m         \"\"\"\n\u001b[1;32m   1340\u001b[0m         \u001b[0mX\u001b[0m\u001b[0;34m,\u001b[0m \u001b[0my\u001b[0m\u001b[0;34m,\u001b[0m \u001b[0mgroups\u001b[0m \u001b[0;34m=\u001b[0m \u001b[0mindexable\u001b[0m\u001b[0;34m(\u001b[0m\u001b[0mX\u001b[0m\u001b[0;34m,\u001b[0m \u001b[0my\u001b[0m\u001b[0;34m,\u001b[0m \u001b[0mgroups\u001b[0m\u001b[0;34m)\u001b[0m\u001b[0;34m\u001b[0m\u001b[0;34m\u001b[0m\u001b[0m\n\u001b[0;32m-> 1341\u001b[0;31m         \u001b[0;32mfor\u001b[0m \u001b[0mtrain\u001b[0m\u001b[0;34m,\u001b[0m \u001b[0mtest\u001b[0m \u001b[0;32min\u001b[0m \u001b[0mself\u001b[0m\u001b[0;34m.\u001b[0m\u001b[0m_iter_indices\u001b[0m\u001b[0;34m(\u001b[0m\u001b[0mX\u001b[0m\u001b[0;34m,\u001b[0m \u001b[0my\u001b[0m\u001b[0;34m,\u001b[0m \u001b[0mgroups\u001b[0m\u001b[0;34m)\u001b[0m\u001b[0;34m:\u001b[0m\u001b[0;34m\u001b[0m\u001b[0;34m\u001b[0m\u001b[0m\n\u001b[0m\u001b[1;32m   1342\u001b[0m             \u001b[0;32myield\u001b[0m \u001b[0mtrain\u001b[0m\u001b[0;34m,\u001b[0m \u001b[0mtest\u001b[0m\u001b[0;34m\u001b[0m\u001b[0;34m\u001b[0m\u001b[0m\n\u001b[1;32m   1343\u001b[0m \u001b[0;34m\u001b[0m\u001b[0m\n",
      "\u001b[0;32m~/PycharmProjects/disaster-response-pipeline/venv/lib/python3.8/site-packages/sklearn/model_selection/_split.py\u001b[0m in \u001b[0;36m_iter_indices\u001b[0;34m(self, X, y, groups)\u001b[0m\n\u001b[1;32m   1666\u001b[0m         \u001b[0mclass_counts\u001b[0m \u001b[0;34m=\u001b[0m \u001b[0mnp\u001b[0m\u001b[0;34m.\u001b[0m\u001b[0mbincount\u001b[0m\u001b[0;34m(\u001b[0m\u001b[0my_indices\u001b[0m\u001b[0;34m)\u001b[0m\u001b[0;34m\u001b[0m\u001b[0;34m\u001b[0m\u001b[0m\n\u001b[1;32m   1667\u001b[0m         \u001b[0;32mif\u001b[0m \u001b[0mnp\u001b[0m\u001b[0;34m.\u001b[0m\u001b[0mmin\u001b[0m\u001b[0;34m(\u001b[0m\u001b[0mclass_counts\u001b[0m\u001b[0;34m)\u001b[0m \u001b[0;34m<\u001b[0m \u001b[0;36m2\u001b[0m\u001b[0;34m:\u001b[0m\u001b[0;34m\u001b[0m\u001b[0;34m\u001b[0m\u001b[0m\n\u001b[0;32m-> 1668\u001b[0;31m             raise ValueError(\"The least populated class in y has only 1\"\n\u001b[0m\u001b[1;32m   1669\u001b[0m                              \u001b[0;34m\" member, which is too few. The minimum\"\u001b[0m\u001b[0;34m\u001b[0m\u001b[0;34m\u001b[0m\u001b[0m\n\u001b[1;32m   1670\u001b[0m                              \u001b[0;34m\" number of groups for any class cannot\"\u001b[0m\u001b[0;34m\u001b[0m\u001b[0;34m\u001b[0m\u001b[0m\n",
      "\u001b[0;31mValueError\u001b[0m: The least populated class in y has only 1 member, which is too few. The minimum number of groups for any class cannot be less than 2."
     ]
    }
   ],
   "source": [
    "X_train, X_test, y_train, y_test = train_test_split(X, Y, test_size = 0.3, random_state = 42, stratify = Y)"
   ]
  },
  {
   "cell_type": "code",
   "execution_count": 66,
   "metadata": {},
   "outputs": [],
   "source": [
    "model = pipeline.fit(X_train, y_train)"
   ]
  },
  {
   "cell_type": "markdown",
   "metadata": {},
   "source": [
    "### 5. Test your model\n",
    "Report the f1 score, precision and recall for each output category of the dataset. You can do this by iterating through the columns and calling sklearn's `classification_report` on each."
   ]
  },
  {
   "cell_type": "code",
   "execution_count": 58,
   "metadata": {},
   "outputs": [],
   "source": [
    "predictions = model.predict(X_test)"
   ]
  },
  {
   "cell_type": "code",
   "execution_count": 59,
   "metadata": {},
   "outputs": [
    {
     "data": {
      "text/plain": [
       "(7865, 31)"
      ]
     },
     "execution_count": 59,
     "metadata": {},
     "output_type": "execute_result"
    }
   ],
   "source": [
    "predictions.shape"
   ]
  },
  {
   "cell_type": "code",
   "execution_count": 60,
   "metadata": {},
   "outputs": [
    {
     "data": {
      "text/plain": [
       "dtype('int64')"
      ]
     },
     "execution_count": 60,
     "metadata": {},
     "output_type": "execute_result"
    }
   ],
   "source": [
    "predictions[0].dtype"
   ]
  },
  {
   "cell_type": "code",
   "execution_count": 61,
   "metadata": {},
   "outputs": [],
   "source": [
    "report = classification_report(y_test[\"medical_products\"], predictions[:,0])"
   ]
  },
  {
   "cell_type": "code",
   "execution_count": 67,
   "metadata": {},
   "outputs": [
    {
     "name": "stdout",
     "output_type": "stream",
     "text": [
      "              precision    recall  f1-score   support\n",
      "\n",
      "           0       0.95      1.00      0.97      7447\n",
      "           1       0.76      0.04      0.07       418\n",
      "\n",
      "    accuracy                           0.95      7865\n",
      "   macro avg       0.86      0.52      0.52      7865\n",
      "weighted avg       0.94      0.95      0.93      7865\n",
      "\n"
     ]
    }
   ],
   "source": [
    "print(report)"
   ]
  },
  {
   "cell_type": "code",
   "execution_count": 68,
   "metadata": {},
   "outputs": [
    {
     "name": "stdout",
     "output_type": "stream",
     "text": [
      "                        precision    recall  f1-score   support\n",
      "\n",
      "      medical_products       0.76      0.04      0.07       418\n",
      "     search_and_rescue       0.83      0.03      0.05       192\n",
      "              security       0.00      0.00      0.00       144\n",
      "              military       0.64      0.07      0.12       245\n",
      "           child_alone       0.00      0.00      0.00         0\n",
      "                 water       0.87      0.32      0.47       500\n",
      "                  food       0.89      0.47      0.62       878\n",
      "               shelter       0.82      0.27      0.41       705\n",
      "              clothing       0.76      0.11      0.20       115\n",
      "                 money       0.89      0.05      0.09       170\n",
      "        missing_people       1.00      0.01      0.02        92\n",
      "              refugees       0.33      0.02      0.03       260\n",
      "                 death       0.77      0.06      0.12       366\n",
      "             other_aid       0.61      0.06      0.12      1033\n",
      "infrastructure_related       0.00      0.00      0.00       505\n",
      "             transport       0.80      0.01      0.02       362\n",
      "             buildings       0.58      0.04      0.07       392\n",
      "           electricity       1.00      0.01      0.01       168\n",
      "                 tools       0.00      0.00      0.00        48\n",
      "             hospitals       0.00      0.00      0.00        78\n",
      "                 shops       0.00      0.00      0.00        28\n",
      "           aid_centers       0.00      0.00      0.00       103\n",
      "  other_infrastructure       0.00      0.00      0.00       341\n",
      "       weather_related       0.85      0.61      0.72      2163\n",
      "                floods       0.86      0.32      0.46       623\n",
      "                 storm       0.76      0.34      0.47       738\n",
      "                  fire       1.00      0.02      0.05        83\n",
      "            earthquake       0.89      0.66      0.76       702\n",
      "                  cold       0.55      0.04      0.07       171\n",
      "         other_weather       0.50      0.01      0.03       415\n",
      "         direct_report       0.78      0.37      0.50      1544\n",
      "\n",
      "             micro avg       0.83      0.28      0.42     13582\n",
      "             macro avg       0.57      0.13      0.18     13582\n",
      "          weighted avg       0.71      0.28      0.36     13582\n",
      "           samples avg       0.27      0.17      0.19     13582\n",
      "\n"
     ]
    },
    {
     "name": "stderr",
     "output_type": "stream",
     "text": [
      "/Users/RobertSmith/PycharmProjects/disaster-response-pipeline/venv/lib/python3.8/site-packages/sklearn/metrics/_classification.py:1221: UndefinedMetricWarning: Precision and F-score are ill-defined and being set to 0.0 in labels with no predicted samples. Use `zero_division` parameter to control this behavior.\n",
      "  _warn_prf(average, modifier, msg_start, len(result))\n",
      "/Users/RobertSmith/PycharmProjects/disaster-response-pipeline/venv/lib/python3.8/site-packages/sklearn/metrics/_classification.py:1221: UndefinedMetricWarning: Recall and F-score are ill-defined and being set to 0.0 in labels with no true samples. Use `zero_division` parameter to control this behavior.\n",
      "  _warn_prf(average, modifier, msg_start, len(result))\n",
      "/Users/RobertSmith/PycharmProjects/disaster-response-pipeline/venv/lib/python3.8/site-packages/sklearn/metrics/_classification.py:1221: UndefinedMetricWarning: Precision and F-score are ill-defined and being set to 0.0 in samples with no predicted labels. Use `zero_division` parameter to control this behavior.\n",
      "  _warn_prf(average, modifier, msg_start, len(result))\n",
      "/Users/RobertSmith/PycharmProjects/disaster-response-pipeline/venv/lib/python3.8/site-packages/sklearn/metrics/_classification.py:1221: UndefinedMetricWarning: Recall and F-score are ill-defined and being set to 0.0 in samples with no true labels. Use `zero_division` parameter to control this behavior.\n",
      "  _warn_prf(average, modifier, msg_start, len(result))\n"
     ]
    }
   ],
   "source": [
    "print(classification_report(y_test, predictions, target_names = y_test.columns))"
   ]
  },
  {
   "cell_type": "code",
   "execution_count": 69,
   "metadata": {},
   "outputs": [
    {
     "name": "stdout",
     "output_type": "stream",
     "text": [
      "                        precision    recall  f1-score   support\n",
      "\n",
      "      medical_products       0.76      0.04      0.07       418\n",
      "     search_and_rescue       0.83      0.03      0.05       192\n",
      "              security       0.00      0.00      0.00       144\n",
      "              military       0.64      0.07      0.12       245\n",
      "           child_alone       0.00      0.00      0.00         0\n",
      "                 water       0.87      0.32      0.47       500\n",
      "                  food       0.89      0.47      0.62       878\n",
      "               shelter       0.82      0.27      0.41       705\n",
      "              clothing       0.76      0.11      0.20       115\n",
      "                 money       0.89      0.05      0.09       170\n",
      "        missing_people       1.00      0.01      0.02        92\n",
      "              refugees       0.33      0.02      0.03       260\n",
      "                 death       0.77      0.06      0.12       366\n",
      "             other_aid       0.61      0.06      0.12      1033\n",
      "infrastructure_related       0.00      0.00      0.00       505\n",
      "             transport       0.80      0.01      0.02       362\n",
      "             buildings       0.58      0.04      0.07       392\n",
      "           electricity       1.00      0.01      0.01       168\n",
      "                 tools       0.00      0.00      0.00        48\n",
      "             hospitals       0.00      0.00      0.00        78\n",
      "                 shops       0.00      0.00      0.00        28\n",
      "           aid_centers       0.00      0.00      0.00       103\n",
      "  other_infrastructure       0.00      0.00      0.00       341\n",
      "       weather_related       0.85      0.61      0.72      2163\n",
      "                floods       0.86      0.32      0.46       623\n",
      "                 storm       0.76      0.34      0.47       738\n",
      "                  fire       1.00      0.02      0.05        83\n",
      "            earthquake       0.89      0.66      0.76       702\n",
      "                  cold       0.55      0.04      0.07       171\n",
      "         other_weather       0.50      0.01      0.03       415\n",
      "         direct_report       0.78      0.37      0.50      1544\n",
      "\n",
      "             micro avg       0.83      0.28      0.42     13582\n",
      "             macro avg       0.57      0.13      0.18     13582\n",
      "          weighted avg       0.71      0.28      0.36     13582\n",
      "           samples avg       0.27      0.17      0.19     13582\n",
      "\n"
     ]
    }
   ],
   "source": [
    "print(classification_report(y_test, predictions, target_names = y_test.columns))"
   ]
  },
  {
   "cell_type": "code",
   "execution_count": 70,
   "metadata": {},
   "outputs": [
    {
     "data": {
      "text/plain": [
       "0.07289293849658314"
      ]
     },
     "execution_count": 70,
     "metadata": {},
     "output_type": "execute_result"
    }
   ],
   "source": [
    "f1_score(y_test[[\"medical_products\"]], predictions[:,0], pos_label = 1)"
   ]
  },
  {
   "cell_type": "code",
   "execution_count": 73,
   "metadata": {},
   "outputs": [
    {
     "name": "stdout",
     "output_type": "stream",
     "text": [
      "Classification Report for: medical_products\n",
      "              precision    recall  f1-score   support\n",
      "\n",
      "           0       0.95      1.00      0.97      7447\n",
      "           1       0.76      0.04      0.07       418\n",
      "\n",
      "    accuracy                           0.95      7865\n",
      "   macro avg       0.86      0.52      0.52      7865\n",
      "weighted avg       0.94      0.95      0.93      7865\n",
      "\n",
      "Classification Report for: search_and_rescue\n",
      "              precision    recall  f1-score   support\n",
      "\n",
      "           0       0.98      1.00      0.99      7673\n",
      "           1       0.83      0.03      0.05       192\n",
      "\n",
      "    accuracy                           0.98      7865\n",
      "   macro avg       0.90      0.51      0.52      7865\n",
      "weighted avg       0.97      0.98      0.97      7865\n",
      "\n",
      "Classification Report for: security\n",
      "              precision    recall  f1-score   support\n",
      "\n",
      "           0       0.98      1.00      0.99      7721\n",
      "           1       0.00      0.00      0.00       144\n",
      "\n",
      "    accuracy                           0.98      7865\n",
      "   macro avg       0.49      0.50      0.50      7865\n",
      "weighted avg       0.96      0.98      0.97      7865\n",
      "\n",
      "Classification Report for: military\n",
      "              precision    recall  f1-score   support\n",
      "\n",
      "           0       0.97      1.00      0.98      7620\n",
      "           1       0.64      0.07      0.12       245\n",
      "\n",
      "    accuracy                           0.97      7865\n",
      "   macro avg       0.81      0.53      0.55      7865\n",
      "weighted avg       0.96      0.97      0.96      7865\n",
      "\n",
      "Classification Report for: child_alone\n",
      "              precision    recall  f1-score   support\n",
      "\n",
      "           0       1.00      1.00      1.00      7865\n",
      "\n",
      "    accuracy                           1.00      7865\n",
      "   macro avg       1.00      1.00      1.00      7865\n",
      "weighted avg       1.00      1.00      1.00      7865\n",
      "\n",
      "Classification Report for: water\n",
      "              precision    recall  f1-score   support\n",
      "\n",
      "           0       0.96      1.00      0.98      7365\n",
      "           1       0.87      0.32      0.47       500\n",
      "\n",
      "    accuracy                           0.95      7865\n",
      "   macro avg       0.92      0.66      0.72      7865\n",
      "weighted avg       0.95      0.95      0.94      7865\n",
      "\n",
      "Classification Report for: food\n",
      "              precision    recall  f1-score   support\n",
      "\n",
      "           0       0.94      0.99      0.96      6987\n",
      "           1       0.89      0.47      0.62       878\n",
      "\n",
      "    accuracy                           0.93      7865\n",
      "   macro avg       0.91      0.73      0.79      7865\n",
      "weighted avg       0.93      0.93      0.93      7865\n",
      "\n",
      "Classification Report for: shelter\n",
      "              precision    recall  f1-score   support\n",
      "\n",
      "           0       0.93      0.99      0.96      7160\n",
      "           1       0.82      0.27      0.41       705\n",
      "\n",
      "    accuracy                           0.93      7865\n",
      "   macro avg       0.88      0.63      0.69      7865\n",
      "weighted avg       0.92      0.93      0.91      7865\n",
      "\n",
      "Classification Report for: clothing\n",
      "              precision    recall  f1-score   support\n",
      "\n",
      "           0       0.99      1.00      0.99      7750\n",
      "           1       0.76      0.11      0.20       115\n",
      "\n",
      "    accuracy                           0.99      7865\n",
      "   macro avg       0.88      0.56      0.60      7865\n",
      "weighted avg       0.98      0.99      0.98      7865\n",
      "\n",
      "Classification Report for: money\n",
      "              precision    recall  f1-score   support\n",
      "\n",
      "           0       0.98      1.00      0.99      7695\n",
      "           1       0.89      0.05      0.09       170\n",
      "\n",
      "    accuracy                           0.98      7865\n",
      "   macro avg       0.93      0.52      0.54      7865\n",
      "weighted avg       0.98      0.98      0.97      7865\n",
      "\n",
      "Classification Report for: missing_people\n",
      "              precision    recall  f1-score   support\n",
      "\n",
      "           0       0.99      1.00      0.99      7773\n",
      "           1       1.00      0.01      0.02        92\n",
      "\n",
      "    accuracy                           0.99      7865\n",
      "   macro avg       0.99      0.51      0.51      7865\n",
      "weighted avg       0.99      0.99      0.98      7865\n",
      "\n",
      "Classification Report for: refugees\n",
      "              precision    recall  f1-score   support\n",
      "\n",
      "           0       0.97      1.00      0.98      7605\n",
      "           1       0.33      0.02      0.03       260\n",
      "\n",
      "    accuracy                           0.97      7865\n",
      "   macro avg       0.65      0.51      0.51      7865\n",
      "weighted avg       0.95      0.97      0.95      7865\n",
      "\n",
      "Classification Report for: death\n"
     ]
    },
    {
     "name": "stderr",
     "output_type": "stream",
     "text": [
      "/Users/RobertSmith/PycharmProjects/disaster-response-pipeline/venv/lib/python3.8/site-packages/sklearn/metrics/_classification.py:1464: UndefinedMetricWarning: F-score is ill-defined and being set to 0.0 due to no true nor predicted samples. Use `zero_division` parameter to control this behavior.\n",
      "  _warn_prf(\n"
     ]
    },
    {
     "name": "stdout",
     "output_type": "stream",
     "text": [
      "              precision    recall  f1-score   support\n",
      "\n",
      "           0       0.96      1.00      0.98      7499\n",
      "           1       0.77      0.06      0.12       366\n",
      "\n",
      "    accuracy                           0.96      7865\n",
      "   macro avg       0.86      0.53      0.55      7865\n",
      "weighted avg       0.95      0.96      0.94      7865\n",
      "\n",
      "Classification Report for: other_aid\n",
      "              precision    recall  f1-score   support\n",
      "\n",
      "           0       0.88      0.99      0.93      6832\n",
      "           1       0.61      0.06      0.12      1033\n",
      "\n",
      "    accuracy                           0.87      7865\n",
      "   macro avg       0.74      0.53      0.52      7865\n",
      "weighted avg       0.84      0.87      0.82      7865\n",
      "\n",
      "Classification Report for: infrastructure_related\n",
      "              precision    recall  f1-score   support\n",
      "\n",
      "           0       0.94      1.00      0.97      7360\n",
      "           1       0.00      0.00      0.00       505\n",
      "\n",
      "    accuracy                           0.94      7865\n",
      "   macro avg       0.47      0.50      0.48      7865\n",
      "weighted avg       0.88      0.94      0.90      7865\n",
      "\n",
      "Classification Report for: transport\n",
      "              precision    recall  f1-score   support\n",
      "\n",
      "           0       0.95      1.00      0.98      7503\n",
      "           1       0.80      0.01      0.02       362\n",
      "\n",
      "    accuracy                           0.95      7865\n",
      "   macro avg       0.88      0.51      0.50      7865\n",
      "weighted avg       0.95      0.95      0.93      7865\n",
      "\n",
      "Classification Report for: buildings\n",
      "              precision    recall  f1-score   support\n",
      "\n",
      "           0       0.95      1.00      0.97      7473\n",
      "           1       0.58      0.04      0.07       392\n",
      "\n",
      "    accuracy                           0.95      7865\n",
      "   macro avg       0.76      0.52      0.52      7865\n",
      "weighted avg       0.93      0.95      0.93      7865\n",
      "\n",
      "Classification Report for: electricity\n",
      "              precision    recall  f1-score   support\n",
      "\n",
      "           0       0.98      1.00      0.99      7697\n",
      "           1       1.00      0.01      0.01       168\n",
      "\n",
      "    accuracy                           0.98      7865\n",
      "   macro avg       0.99      0.50      0.50      7865\n",
      "weighted avg       0.98      0.98      0.97      7865\n",
      "\n",
      "Classification Report for: tools\n",
      "              precision    recall  f1-score   support\n",
      "\n",
      "           0       0.99      1.00      1.00      7817\n",
      "           1       0.00      0.00      0.00        48\n",
      "\n",
      "    accuracy                           0.99      7865\n",
      "   macro avg       0.50      0.50      0.50      7865\n",
      "weighted avg       0.99      0.99      0.99      7865\n",
      "\n",
      "Classification Report for: hospitals\n",
      "              precision    recall  f1-score   support\n",
      "\n",
      "           0       0.99      1.00      1.00      7787\n",
      "           1       0.00      0.00      0.00        78\n",
      "\n",
      "    accuracy                           0.99      7865\n",
      "   macro avg       0.50      0.50      0.50      7865\n",
      "weighted avg       0.98      0.99      0.99      7865\n",
      "\n",
      "Classification Report for: shops\n",
      "              precision    recall  f1-score   support\n",
      "\n",
      "           0       1.00      1.00      1.00      7837\n",
      "           1       0.00      0.00      0.00        28\n",
      "\n",
      "    accuracy                           1.00      7865\n",
      "   macro avg       0.50      0.50      0.50      7865\n",
      "weighted avg       0.99      1.00      0.99      7865\n",
      "\n",
      "Classification Report for: aid_centers\n",
      "              precision    recall  f1-score   support\n",
      "\n",
      "           0       0.99      1.00      0.99      7762\n",
      "           1       0.00      0.00      0.00       103\n",
      "\n",
      "    accuracy                           0.99      7865\n",
      "   macro avg       0.49      0.50      0.50      7865\n",
      "weighted avg       0.97      0.99      0.98      7865\n",
      "\n",
      "Classification Report for: other_infrastructure\n",
      "              precision    recall  f1-score   support\n",
      "\n",
      "           0       0.96      1.00      0.98      7524\n",
      "           1       0.00      0.00      0.00       341\n",
      "\n",
      "    accuracy                           0.96      7865\n",
      "   macro avg       0.48      0.50      0.49      7865\n",
      "weighted avg       0.92      0.96      0.94      7865\n",
      "\n",
      "Classification Report for: weather_related\n",
      "              precision    recall  f1-score   support\n",
      "\n",
      "           0       0.87      0.96      0.91      5702\n",
      "           1       0.85      0.61      0.72      2163\n",
      "\n",
      "    accuracy                           0.87      7865\n",
      "   macro avg       0.86      0.79      0.81      7865\n",
      "weighted avg       0.86      0.87      0.86      7865\n",
      "\n",
      "Classification Report for: floods\n",
      "              precision    recall  f1-score   support\n",
      "\n",
      "           0       0.94      1.00      0.97      7242\n",
      "           1       0.86      0.32      0.46       623\n",
      "\n",
      "    accuracy                           0.94      7865\n",
      "   macro avg       0.90      0.66      0.72      7865\n",
      "weighted avg       0.94      0.94      0.93      7865\n",
      "\n",
      "Classification Report for: storm\n",
      "              precision    recall  f1-score   support\n",
      "\n",
      "           0       0.94      0.99      0.96      7127\n",
      "           1       0.76      0.34      0.47       738\n",
      "\n",
      "    accuracy                           0.93      7865\n",
      "   macro avg       0.85      0.67      0.72      7865\n",
      "weighted avg       0.92      0.93      0.92      7865\n",
      "\n",
      "Classification Report for: fire\n",
      "              precision    recall  f1-score   support\n",
      "\n",
      "           0       0.99      1.00      0.99      7782\n",
      "           1       1.00      0.02      0.05        83\n",
      "\n",
      "    accuracy                           0.99      7865\n",
      "   macro avg       0.99      0.51      0.52      7865\n",
      "weighted avg       0.99      0.99      0.98      7865\n",
      "\n",
      "Classification Report for: earthquake\n",
      "              precision    recall  f1-score   support\n",
      "\n",
      "           0       0.97      0.99      0.98      7163\n",
      "           1       0.89      0.66      0.76       702\n",
      "\n",
      "    accuracy                           0.96      7865\n",
      "   macro avg       0.93      0.83      0.87      7865\n",
      "weighted avg       0.96      0.96      0.96      7865\n",
      "\n",
      "Classification Report for: cold\n",
      "              precision    recall  f1-score   support\n",
      "\n",
      "           0       0.98      1.00      0.99      7694\n",
      "           1       0.55      0.04      0.07       171\n",
      "\n",
      "    accuracy                           0.98      7865\n",
      "   macro avg       0.76      0.52      0.53      7865\n",
      "weighted avg       0.97      0.98      0.97      7865\n",
      "\n",
      "Classification Report for: other_weather\n",
      "              precision    recall  f1-score   support\n",
      "\n",
      "           0       0.95      1.00      0.97      7450\n",
      "           1       0.50      0.01      0.03       415\n",
      "\n",
      "    accuracy                           0.95      7865\n",
      "   macro avg       0.72      0.51      0.50      7865\n",
      "weighted avg       0.92      0.95      0.92      7865\n",
      "\n",
      "Classification Report for: direct_report\n",
      "              precision    recall  f1-score   support\n",
      "\n",
      "           0       0.86      0.97      0.92      6321\n",
      "           1       0.78      0.37      0.50      1544\n",
      "\n",
      "    accuracy                           0.86      7865\n",
      "   macro avg       0.82      0.67      0.71      7865\n",
      "weighted avg       0.85      0.86      0.83      7865\n",
      "\n"
     ]
    }
   ],
   "source": [
    "f1_scores = pd.Series(dtype = float)\n",
    "for col in range(0,predictions.shape[1]):\n",
    "    print(f\"Classification Report for: {y_test.iloc[:,col].name}\")\n",
    "    print(classification_report(y_test.iloc[:,col], predictions[:,col]))\n",
    "    f1_scores = f1_scores.append(pd.Series(round(f1_score(y_test.iloc[:,col], predictions[:,col], pos_label = 1),2)))\n",
    "f1_scores.index = y_test.columns\n",
    "    "
   ]
  },
  {
   "cell_type": "code",
   "execution_count": 74,
   "metadata": {},
   "outputs": [
    {
     "data": {
      "text/plain": [
       "medical_products          0.07\n",
       "search_and_rescue         0.05\n",
       "security                  0.00\n",
       "military                  0.12\n",
       "child_alone               0.00\n",
       "water                     0.47\n",
       "food                      0.62\n",
       "shelter                   0.41\n",
       "clothing                  0.20\n",
       "money                     0.09\n",
       "missing_people            0.02\n",
       "refugees                  0.03\n",
       "death                     0.12\n",
       "other_aid                 0.12\n",
       "infrastructure_related    0.00\n",
       "transport                 0.02\n",
       "buildings                 0.07\n",
       "electricity               0.01\n",
       "tools                     0.00\n",
       "hospitals                 0.00\n",
       "shops                     0.00\n",
       "aid_centers               0.00\n",
       "other_infrastructure      0.00\n",
       "weather_related           0.72\n",
       "floods                    0.46\n",
       "storm                     0.47\n",
       "fire                      0.05\n",
       "earthquake                0.76\n",
       "cold                      0.07\n",
       "other_weather             0.03\n",
       "direct_report             0.50\n",
       "dtype: float64"
      ]
     },
     "execution_count": 74,
     "metadata": {},
     "output_type": "execute_result"
    }
   ],
   "source": [
    "f1_scores"
   ]
  },
  {
   "cell_type": "code",
   "execution_count": 75,
   "metadata": {},
   "outputs": [
    {
     "data": {
      "image/png": "[encoded data removed]",
      "text/plain": [
       "<Figure size 720x576 with 1 Axes>"
      ]
     },
     "metadata": {
      "needs_background": "light"
     },
     "output_type": "display_data"
    }
   ],
   "source": [
    "import seaborn as sns\n",
    "plt.figure(figsize=(10,8))\n",
    "sns.barplot(x = f1_scores, \n",
    "            y = f1_scores.index, \n",
    "            order = f1_scores.sort_values(ascending=False).index);"
   ]
  },
  {
   "cell_type": "code",
   "execution_count": 76,
   "metadata": {},
   "outputs": [
    {
     "data": {
      "text/plain": [
       "0.1767741935483871"
      ]
     },
     "execution_count": 76,
     "metadata": {},
     "output_type": "execute_result"
    }
   ],
   "source": [
    "f1_scores.mean()"
   ]
  },
  {
   "cell_type": "markdown",
   "metadata": {},
   "source": [
    "### 6. Improve your model\n",
    "Use grid search to find better parameters. "
   ]
  },
  {
   "cell_type": "code",
   "execution_count": 89,
   "metadata": {},
   "outputs": [],
   "source": [
    "parameters = {\n",
    "    'vect__ngram_range': ((1, 1), (1, 2)),\n",
    "    'vect__max_df': (0.5, 0.75, 1.0),\n",
    "    'vect__max_features': (None, 5000, 10000),\n",
    "    'tfidf__use_idf': (True, False),\n",
    "    'clf__estimator__n_estimators': [50, 100, 200],\n",
    "    'clf__estimator__min_samples_split': [2, 3, 4]\n",
    "}\n",
    "\n",
    "cv = GridSearchCV(pipeline, param_grid = parameters)"
   ]
  },
  {
   "cell_type": "code",
   "execution_count": null,
   "metadata": {},
   "outputs": [],
   "source": [
    "cv_model = cv.fit(X_train, y_train)"
   ]
  },
  {
   "cell_type": "markdown",
   "metadata": {},
   "source": [
    "### 7. Test your model\n",
    "Show the accuracy, precision, and recall of the tuned model.  \n",
    "\n",
    "Since this project focuses on code quality, process, and  pipelines, there is no minimum performance metric needed to pass. However, make sure to fine tune your models for accuracy, precision and recall to make your project stand out - especially for your portfolio!"
   ]
  },
  {
   "cell_type": "code",
   "execution_count": null,
   "metadata": {},
   "outputs": [],
   "source": [
    "cv_predictions = cv_model.predict(X_test)"
   ]
  },
  {
   "cell_type": "code",
   "execution_count": null,
   "metadata": {},
   "outputs": [],
   "source": [
    "cv_f1_score_dict = {}\n",
    "for col in range(0,predictions.shape[1]):\n",
    "    print(f\"Classification Report for: {y_test.iloc[:,col].name}\")\n",
    "    print(classification_report(y_test.iloc[:,col], cv_predictions[:,col]))\n",
    "    cv_f1_score_dict[y_test.iloc[:,col].name] = round(f1_score(y_test.iloc[:,col], cv_predictions[:,col], pos_label = \"1\"),2)\n",
    "  "
   ]
  },
  {
   "cell_type": "markdown",
   "metadata": {},
   "source": [
    "### 8. Try improving your model further. Here are a few ideas:\n",
    "* try other machine learning algorithms\n",
    "* add other features besides the TF-IDF"
   ]
  },
  {
   "cell_type": "code",
   "execution_count": null,
   "metadata": {},
   "outputs": [],
   "source": []
  },
  {
   "cell_type": "markdown",
   "metadata": {},
   "source": [
    "### 9. Export your model as a pickle file"
   ]
  },
  {
   "cell_type": "code",
   "execution_count": null,
   "metadata": {},
   "outputs": [],
   "source": []
  },
  {
   "cell_type": "markdown",
   "metadata": {},
   "source": [
    "### 10. Use this notebook to complete `train.py`\n",
    "Use the template file attached in the Resources folder to write a script that runs the steps above to create a database and export a model based on a new dataset specified by the user."
   ]
  },
  {
   "cell_type": "code",
   "execution_count": null,
   "metadata": {},
   "outputs": [],
   "source": []
  }
 ],
 "metadata": {
  "kernelspec": {
   "display_name": "Python 3",
   "language": "python",
   "name": "python3"
  },
  "language_info": {
   "codemirror_mode": {
    "name": "ipython",
    "version": 3
   },
   "file_extension": ".py",
   "mimetype": "text/x-python",
   "name": "python",
   "nbconvert_exporter": "python",
   "pygments_lexer": "ipython3",
   "version": "3.8.1"
  }
 },
 "nbformat": 4,
 "nbformat_minor": 2
}
