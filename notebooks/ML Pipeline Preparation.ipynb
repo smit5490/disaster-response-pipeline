{
 "cells": [
  {
   "cell_type": "markdown",
   "metadata": {},
   "source": [
    "# ML Pipeline Preparation\n",
    "Follow the instructions below to help you create your ML pipeline.\n",
    "### 1. Import libraries and load data from database.\n",
    "- Import Python libraries\n",
    "- Load dataset from database with [`read_sql_table`](https://pandas.pydata.org/pandas-docs/stable/generated/pandas.read_sql_table.html)\n",
    "- Define feature and target variables X and Y"
   ]
  },
  {
   "cell_type": "code",
   "execution_count": 2,
   "metadata": {},
   "outputs": [
    {
     "name": "stderr",
     "output_type": "stream",
     "text": [
      "[nltk_data] Downloading package stopwords to\n",
      "[nltk_data]     /Users/RobertSmith/nltk_data...\n",
      "[nltk_data]   Package stopwords is already up-to-date!\n",
      "[nltk_data] Downloading package punkt to\n",
      "[nltk_data]     /Users/RobertSmith/nltk_data...\n",
      "[nltk_data]   Package punkt is already up-to-date!\n",
      "[nltk_data] Downloading package wordnet to\n",
      "[nltk_data]     /Users/RobertSmith/nltk_data...\n",
      "[nltk_data]   Package wordnet is already up-to-date!\n"
     ]
    }
   ],
   "source": [
    "# import libraries\n",
    "from sqlalchemy import create_engine\n",
    "import pandas as pd\n",
    "import seaborn as sns\n",
    "import re\n",
    "from matplotlib import pyplot as plt\n",
    "\n",
    "# NLP\n",
    "import nltk\n",
    "nltk.download(['stopwords','punkt', 'wordnet'])\n",
    "from nltk.tokenize import word_tokenize\n",
    "from nltk.corpus import stopwords\n",
    "from nltk.stem.wordnet import WordNetLemmatizer\n",
    "\n",
    "# Scikit-Learn\n",
    "from sklearn.pipeline import Pipeline, FeatureUnion\n",
    "from sklearn.metrics import confusion_matrix, classification_report, f1_score\n",
    "from sklearn.model_selection import GridSearchCV\n",
    "from sklearn.ensemble import RandomForestClassifier, GradientBoostingClassifier, AdaBoostClassifier\n",
    "from sklearn.naive_bayes import ComplementNB\n",
    "from sklearn.linear_model import SGDClassifier\n",
    "from sklearn.neural_network import MLPClassifier\n",
    "from sklearn.model_selection import train_test_split\n",
    "from sklearn.multioutput import MultiOutputClassifier\n",
    "from sklearn.feature_extraction.text import CountVectorizer, TfidfTransformer\n",
    "from sklearn.decomposition import TruncatedSVD"
   ]
  },
  {
   "cell_type": "code",
   "execution_count": 3,
   "metadata": {},
   "outputs": [],
   "source": [
    "# load data from database\n",
    "engine = create_engine('sqlite:///../data/disaster_response.db')\n",
    "df = pd.read_sql(\"SELECT * FROM messages;\", con = engine)\n",
    "X = df[\"message\"]\n",
    "cols_to_keep = [col for col in df.columns[4:] if (df[col].sum() > 0)]\n",
    "Y = df[cols_to_keep]"
   ]
  },
  {
   "cell_type": "markdown",
   "metadata": {},
   "source": [
    "### 2. Write a tokenization function to process your text data\n",
    "Tokenization steps:\n",
    "1. normalize\n",
    "2. remove punctuation\n",
    "3. tokenize\n",
    "4. remove stopwords\n",
    "5. lemmatize\n"
   ]
  },
  {
   "cell_type": "code",
   "execution_count": 4,
   "metadata": {},
   "outputs": [],
   "source": [
    "def tokenize(text):\n",
    "    text = text.lower()\n",
    "    text = re.sub(r\"[^A-Za-z0-9]\", \" \",text)\n",
    "    words = word_tokenize(text)\n",
    "    words = [w for w in words if w not in stopwords.words(\"english\")]\n",
    "    words = [WordNetLemmatizer().lemmatize(w) for w in words]\n",
    "    return words"
   ]
  },
  {
   "cell_type": "markdown",
   "metadata": {},
   "source": [
    "### 3. Build a machine learning pipeline\n",
    "This machine pipeline should take in the `message` column as input and output classification results on the other 36 categories in the dataset. You may find the [MultiOutputClassifier](http://scikit-learn.org/stable/modules/generated/sklearn.multioutput.MultiOutputClassifier.html) helpful for predicting multiple target variables."
   ]
  },
  {
   "cell_type": "code",
   "execution_count": 5,
   "metadata": {},
   "outputs": [],
   "source": [
    "basic_pipeline = Pipeline([\n",
    "    (\"vect\", CountVectorizer(tokenizer = tokenize)),\n",
    "    (\"tfidf\", TfidfTransformer()),\n",
    "    (\"model\", RandomForestClassifier(random_state=42))\n",
    "    ])"
   ]
  },
  {
   "cell_type": "markdown",
   "metadata": {},
   "source": [
    "### 4. Train pipeline\n",
    "- Split data into train and test sets\n",
    "- Train pipeline"
   ]
  },
  {
   "cell_type": "code",
   "execution_count": 6,
   "metadata": {},
   "outputs": [],
   "source": [
    "X_train, X_test, Y_train, Y_test = train_test_split(X, Y, test_size = 0.3, random_state = 42)"
   ]
  },
  {
   "cell_type": "code",
   "execution_count": 7,
   "metadata": {},
   "outputs": [],
   "source": [
    "basic_model = basic_pipeline.fit(X_train, Y_train)"
   ]
  },
  {
   "cell_type": "markdown",
   "metadata": {},
   "source": [
    "### 5. Test your model\n",
    "Report the f1 score, precision and recall for each output category of the dataset. You can do this by iterating through the columns and calling sklearn's `classification_report` on each."
   ]
  },
  {
   "cell_type": "code",
   "execution_count": 9,
   "metadata": {},
   "outputs": [],
   "source": [
    "basic_preds = basic_model.predict(X_test)"
   ]
  },
  {
   "cell_type": "code",
   "execution_count": 12,
   "metadata": {},
   "outputs": [
    {
     "name": "stdout",
     "output_type": "stream",
     "text": [
      "                        precision    recall  f1-score   support\n",
      "\n",
      "               related       0.85      0.94      0.89      6012\n",
      "               request       0.84      0.50      0.63      1313\n",
      "                 offer       0.00      0.00      0.00        36\n",
      "           aid_related       0.80      0.55      0.65      3255\n",
      "          medical_help       0.70      0.02      0.04       629\n",
      "      medical_products       0.79      0.04      0.07       406\n",
      "     search_and_rescue       0.71      0.02      0.05       202\n",
      "              security       0.00      0.00      0.00       151\n",
      "              military       0.65      0.05      0.08       244\n",
      "                 water       0.88      0.26      0.40       493\n",
      "                  food       0.87      0.42      0.57       861\n",
      "               shelter       0.81      0.20      0.33       715\n",
      "              clothing       0.83      0.09      0.16       114\n",
      "                 money       0.80      0.05      0.09       174\n",
      "        missing_people       1.00      0.01      0.02        88\n",
      "              refugees       0.67      0.03      0.06       277\n",
      "                 death       0.89      0.04      0.08       373\n",
      "             other_aid       0.65      0.05      0.10      1034\n",
      "infrastructure_related       0.25      0.00      0.00       494\n",
      "             transport       0.80      0.01      0.02       346\n",
      "             buildings       0.62      0.03      0.06       403\n",
      "           electricity       0.00      0.00      0.00       168\n",
      "                 tools       0.00      0.00      0.00        51\n",
      "             hospitals       0.00      0.00      0.00        74\n",
      "                 shops       0.00      0.00      0.00        32\n",
      "           aid_centers       0.00      0.00      0.00        98\n",
      "  other_infrastructure       0.00      0.00      0.00       334\n",
      "       weather_related       0.87      0.58      0.69      2215\n",
      "                floods       0.92      0.25      0.39       663\n",
      "                 storm       0.77      0.33      0.46       735\n",
      "                  fire       0.00      0.00      0.00        83\n",
      "            earthquake       0.90      0.64      0.75       743\n",
      "                  cold       0.33      0.01      0.01       147\n",
      "         other_weather       0.50      0.01      0.03       402\n",
      "         direct_report       0.78      0.36      0.49      1522\n",
      "\n",
      "             micro avg       0.84      0.47      0.60     24887\n",
      "             macro avg       0.56      0.16      0.20     24887\n",
      "          weighted avg       0.76      0.47      0.52     24887\n",
      "           samples avg       0.68      0.44      0.48     24887\n",
      "\n"
     ]
    }
   ],
   "source": [
    "print(classification_report(Y_test, basic_preds, target_names = Y_test.columns))"
   ]
  },
  {
   "cell_type": "code",
   "execution_count": 16,
   "metadata": {},
   "outputs": [
    {
     "data": {
      "text/plain": [
       "0.5995815791512772"
      ]
     },
     "execution_count": 16,
     "metadata": {},
     "output_type": "execute_result"
    }
   ],
   "source": [
    "f1_score(Y_test, basic_preds, pos_label=1, average = \"micro\")"
   ]
  },
  {
   "cell_type": "code",
   "execution_count": 18,
   "metadata": {},
   "outputs": [],
   "source": [
    "category_names = Y_test.columns\n",
    "f1_scores = []\n",
    "for i in range(0,len(category_names)):\n",
    "    f1_scores.append(round(f1_score(Y_test.iloc[:,i], basic_preds[:,i], pos_label=1), 2))\n",
    "f1_scores = pd.Series(f1_scores, index=category_names)"
   ]
  },
  {
   "cell_type": "code",
   "execution_count": 19,
   "metadata": {},
   "outputs": [
    {
     "data": {
      "image/png": "[encoded data removed]",
      "text/plain": [
       "<Figure size 720x576 with 1 Axes>"
      ]
     },
     "metadata": {
      "needs_background": "light"
     },
     "output_type": "display_data"
    }
   ],
   "source": [
    "fig, ax = plt.subplots(figsize=(10, 8))\n",
    "sns.barplot(x=f1_scores.values,\n",
    "            y=f1_scores.index,\n",
    "            order=f1_scores.sort_values(ascending=False).index, \n",
    "            ax = ax)\n",
    "ax.set_title(\"F1 Score for Each Message Category\")\n",
    "ax.set_xlabel(\"F1-Score\");"
   ]
  },
  {
   "cell_type": "code",
   "execution_count": 13,
   "metadata": {},
   "outputs": [
    {
     "name": "stderr",
     "output_type": "stream",
     "text": [
      "/Users/RobertSmith/PycharmProjects/disaster-response-pipeline/venv/lib/python3.8/site-packages/sklearn/metrics/_classification.py:1464: UndefinedMetricWarning: F-score is ill-defined and being set to 0.0 due to no true nor predicted samples. Use `zero_division` parameter to control this behavior.\n",
      "  _warn_prf(\n"
     ]
    },
    {
     "name": "stdout",
     "output_type": "stream",
     "text": [
      "Classification Report for: medical_products\n",
      "              precision    recall  f1-score   support\n",
      "\n",
      "           0       0.95      1.00      0.97      7447\n",
      "           1       0.73      0.03      0.05       418\n",
      "\n",
      "    accuracy                           0.95      7865\n",
      "   macro avg       0.84      0.51      0.51      7865\n",
      "weighted avg       0.94      0.95      0.92      7865\n",
      "\n",
      "Classification Report for: search_and_rescue\n",
      "              precision    recall  f1-score   support\n",
      "\n",
      "           0       0.98      1.00      0.99      7673\n",
      "           1       0.86      0.03      0.06       192\n",
      "\n",
      "    accuracy                           0.98      7865\n",
      "   macro avg       0.92      0.52      0.52      7865\n",
      "weighted avg       0.97      0.98      0.97      7865\n",
      "\n",
      "Classification Report for: security\n",
      "              precision    recall  f1-score   support\n",
      "\n",
      "           0       0.98      1.00      0.99      7721\n",
      "           1       0.00      0.00      0.00       144\n",
      "\n",
      "    accuracy                           0.98      7865\n",
      "   macro avg       0.49      0.50      0.50      7865\n",
      "weighted avg       0.96      0.98      0.97      7865\n",
      "\n",
      "Classification Report for: military\n",
      "              precision    recall  f1-score   support\n",
      "\n",
      "           0       0.97      1.00      0.98      7620\n",
      "           1       0.52      0.05      0.09       245\n",
      "\n",
      "    accuracy                           0.97      7865\n",
      "   macro avg       0.75      0.52      0.54      7865\n",
      "weighted avg       0.96      0.97      0.96      7865\n",
      "\n",
      "Classification Report for: child_alone\n",
      "              precision    recall  f1-score   support\n",
      "\n",
      "           0       1.00      1.00      1.00      7865\n",
      "\n",
      "    accuracy                           1.00      7865\n",
      "   macro avg       1.00      1.00      1.00      7865\n",
      "weighted avg       1.00      1.00      1.00      7865\n",
      "\n",
      "Classification Report for: water\n",
      "              precision    recall  f1-score   support\n",
      "\n",
      "           0       0.96      1.00      0.98      7365\n",
      "           1       0.89      0.31      0.46       500\n",
      "\n",
      "    accuracy                           0.95      7865\n",
      "   macro avg       0.92      0.65      0.72      7865\n",
      "weighted avg       0.95      0.95      0.94      7865\n",
      "\n",
      "Classification Report for: food\n",
      "              precision    recall  f1-score   support\n",
      "\n",
      "           0       0.94      0.99      0.96      6987\n",
      "           1       0.88      0.46      0.61       878\n",
      "\n",
      "    accuracy                           0.93      7865\n",
      "   macro avg       0.91      0.73      0.78      7865\n",
      "weighted avg       0.93      0.93      0.92      7865\n",
      "\n",
      "Classification Report for: shelter\n",
      "              precision    recall  f1-score   support\n",
      "\n",
      "           0       0.93      1.00      0.96      7160\n",
      "           1       0.85      0.26      0.40       705\n",
      "\n",
      "    accuracy                           0.93      7865\n",
      "   macro avg       0.89      0.63      0.68      7865\n",
      "weighted avg       0.92      0.93      0.91      7865\n",
      "\n",
      "Classification Report for: clothing\n",
      "              precision    recall  f1-score   support\n",
      "\n",
      "           0       0.99      1.00      0.99      7750\n",
      "           1       0.75      0.10      0.18       115\n",
      "\n",
      "    accuracy                           0.99      7865\n",
      "   macro avg       0.87      0.55      0.59      7865\n",
      "weighted avg       0.98      0.99      0.98      7865\n",
      "\n",
      "Classification Report for: money\n",
      "              precision    recall  f1-score   support\n",
      "\n",
      "           0       0.98      1.00      0.99      7695\n",
      "           1       0.78      0.04      0.08       170\n",
      "\n",
      "    accuracy                           0.98      7865\n",
      "   macro avg       0.88      0.52      0.53      7865\n",
      "weighted avg       0.97      0.98      0.97      7865\n",
      "\n",
      "Classification Report for: missing_people\n",
      "              precision    recall  f1-score   support\n",
      "\n",
      "           0       0.99      1.00      0.99      7773\n",
      "           1       1.00      0.01      0.02        92\n",
      "\n",
      "    accuracy                           0.99      7865\n",
      "   macro avg       0.99      0.51      0.51      7865\n",
      "weighted avg       0.99      0.99      0.98      7865\n",
      "\n",
      "Classification Report for: refugees\n",
      "              precision    recall  f1-score   support\n",
      "\n",
      "           0       0.97      1.00      0.98      7605\n",
      "           1       0.40      0.02      0.03       260\n",
      "\n",
      "    accuracy                           0.97      7865\n",
      "   macro avg       0.68      0.51      0.51      7865\n",
      "weighted avg       0.95      0.97      0.95      7865\n",
      "\n",
      "Classification Report for: death\n",
      "              precision    recall  f1-score   support\n",
      "\n",
      "           0       0.96      1.00      0.98      7499\n",
      "           1       0.83      0.05      0.10       366\n",
      "\n",
      "    accuracy                           0.96      7865\n",
      "   macro avg       0.89      0.53      0.54      7865\n",
      "weighted avg       0.95      0.96      0.94      7865\n",
      "\n",
      "Classification Report for: other_aid\n",
      "              precision    recall  f1-score   support\n",
      "\n",
      "           0       0.87      1.00      0.93      6832\n",
      "           1       0.66      0.06      0.10      1033\n",
      "\n",
      "    accuracy                           0.87      7865\n",
      "   macro avg       0.77      0.53      0.52      7865\n",
      "weighted avg       0.85      0.87      0.82      7865\n",
      "\n",
      "Classification Report for: infrastructure_related\n",
      "              precision    recall  f1-score   support\n",
      "\n",
      "           0       0.94      1.00      0.97      7360\n",
      "           1       0.00      0.00      0.00       505\n",
      "\n",
      "    accuracy                           0.94      7865\n",
      "   macro avg       0.47      0.50      0.48      7865\n",
      "weighted avg       0.88      0.94      0.90      7865\n",
      "\n",
      "Classification Report for: transport\n",
      "              precision    recall  f1-score   support\n",
      "\n",
      "           0       0.95      1.00      0.98      7503\n",
      "           1       0.57      0.01      0.02       362\n",
      "\n",
      "    accuracy                           0.95      7865\n",
      "   macro avg       0.76      0.51      0.50      7865\n",
      "weighted avg       0.94      0.95      0.93      7865\n",
      "\n",
      "Classification Report for: buildings\n",
      "              precision    recall  f1-score   support\n",
      "\n",
      "           0       0.95      1.00      0.97      7473\n",
      "           1       0.60      0.04      0.07       392\n",
      "\n",
      "    accuracy                           0.95      7865\n",
      "   macro avg       0.78      0.52      0.52      7865\n",
      "weighted avg       0.93      0.95      0.93      7865\n",
      "\n",
      "Classification Report for: electricity\n",
      "              precision    recall  f1-score   support\n",
      "\n",
      "           0       0.98      1.00      0.99      7697\n",
      "           1       0.00      0.00      0.00       168\n",
      "\n",
      "    accuracy                           0.98      7865\n",
      "   macro avg       0.49      0.50      0.49      7865\n",
      "weighted avg       0.96      0.98      0.97      7865\n",
      "\n",
      "Classification Report for: tools\n",
      "              precision    recall  f1-score   support\n",
      "\n",
      "           0       0.99      1.00      1.00      7817\n",
      "           1       0.00      0.00      0.00        48\n",
      "\n",
      "    accuracy                           0.99      7865\n",
      "   macro avg       0.50      0.50      0.50      7865\n",
      "weighted avg       0.99      0.99      0.99      7865\n",
      "\n",
      "Classification Report for: hospitals\n",
      "              precision    recall  f1-score   support\n",
      "\n",
      "           0       0.99      1.00      1.00      7787\n",
      "           1       0.00      0.00      0.00        78\n",
      "\n",
      "    accuracy                           0.99      7865\n",
      "   macro avg       0.50      0.50      0.50      7865\n",
      "weighted avg       0.98      0.99      0.99      7865\n",
      "\n",
      "Classification Report for: shops\n",
      "              precision    recall  f1-score   support\n",
      "\n",
      "           0       1.00      1.00      1.00      7837\n",
      "           1       0.00      0.00      0.00        28\n",
      "\n",
      "    accuracy                           1.00      7865\n",
      "   macro avg       0.50      0.50      0.50      7865\n",
      "weighted avg       0.99      1.00      0.99      7865\n",
      "\n",
      "Classification Report for: aid_centers\n",
      "              precision    recall  f1-score   support\n",
      "\n",
      "           0       0.99      1.00      0.99      7762\n",
      "           1       0.00      0.00      0.00       103\n",
      "\n",
      "    accuracy                           0.99      7865\n",
      "   macro avg       0.49      0.50      0.50      7865\n",
      "weighted avg       0.97      0.99      0.98      7865\n",
      "\n",
      "Classification Report for: other_infrastructure\n",
      "              precision    recall  f1-score   support\n",
      "\n",
      "           0       0.96      1.00      0.98      7524\n",
      "           1       0.00      0.00      0.00       341\n",
      "\n",
      "    accuracy                           0.96      7865\n",
      "   macro avg       0.48      0.50      0.49      7865\n",
      "weighted avg       0.92      0.96      0.94      7865\n",
      "\n",
      "Classification Report for: weather_related\n",
      "              precision    recall  f1-score   support\n",
      "\n",
      "           0       0.86      0.96      0.91      5702\n",
      "           1       0.86      0.60      0.70      2163\n",
      "\n",
      "    accuracy                           0.86      7865\n",
      "   macro avg       0.86      0.78      0.81      7865\n",
      "weighted avg       0.86      0.86      0.85      7865\n",
      "\n",
      "Classification Report for: floods\n",
      "              precision    recall  f1-score   support\n",
      "\n",
      "           0       0.94      1.00      0.97      7242\n",
      "           1       0.87      0.32      0.47       623\n",
      "\n",
      "    accuracy                           0.94      7865\n",
      "   macro avg       0.91      0.66      0.72      7865\n",
      "weighted avg       0.94      0.94      0.93      7865\n",
      "\n",
      "Classification Report for: storm\n"
     ]
    },
    {
     "name": "stdout",
     "output_type": "stream",
     "text": [
      "              precision    recall  f1-score   support\n",
      "\n",
      "           0       0.93      0.99      0.96      7127\n",
      "           1       0.77      0.33      0.46       738\n",
      "\n",
      "    accuracy                           0.93      7865\n",
      "   macro avg       0.85      0.66      0.71      7865\n",
      "weighted avg       0.92      0.93      0.91      7865\n",
      "\n",
      "Classification Report for: fire\n",
      "              precision    recall  f1-score   support\n",
      "\n",
      "           0       0.99      1.00      0.99      7782\n",
      "           1       0.00      0.00      0.00        83\n",
      "\n",
      "    accuracy                           0.99      7865\n",
      "   macro avg       0.49      0.50      0.50      7865\n",
      "weighted avg       0.98      0.99      0.98      7865\n",
      "\n",
      "Classification Report for: earthquake\n",
      "              precision    recall  f1-score   support\n",
      "\n",
      "           0       0.97      0.99      0.98      7163\n",
      "           1       0.88      0.66      0.75       702\n",
      "\n",
      "    accuracy                           0.96      7865\n",
      "   macro avg       0.92      0.83      0.87      7865\n",
      "weighted avg       0.96      0.96      0.96      7865\n",
      "\n",
      "Classification Report for: cold\n",
      "              precision    recall  f1-score   support\n",
      "\n",
      "           0       0.98      1.00      0.99      7694\n",
      "           1       0.58      0.04      0.08       171\n",
      "\n",
      "    accuracy                           0.98      7865\n",
      "   macro avg       0.78      0.52      0.53      7865\n",
      "weighted avg       0.97      0.98      0.97      7865\n",
      "\n",
      "Classification Report for: other_weather\n",
      "              precision    recall  f1-score   support\n",
      "\n",
      "           0       0.95      1.00      0.97      7450\n",
      "           1       0.57      0.02      0.04       415\n",
      "\n",
      "    accuracy                           0.95      7865\n",
      "   macro avg       0.76      0.51      0.51      7865\n",
      "weighted avg       0.93      0.95      0.92      7865\n",
      "\n",
      "Classification Report for: direct_report\n",
      "              precision    recall  f1-score   support\n",
      "\n",
      "           0       0.86      0.97      0.91      6321\n",
      "           1       0.77      0.37      0.50      1544\n",
      "\n",
      "    accuracy                           0.85      7865\n",
      "   macro avg       0.82      0.67      0.71      7865\n",
      "weighted avg       0.84      0.85      0.83      7865\n",
      "\n"
     ]
    }
   ],
   "source": [
    "basic_f1_scores = pd.Series(dtype = float)\n",
    "for col in range(0,basic_preds.shape[1]):\n",
    "    print(f\"Classification Report for: {y_test.iloc[:,col].name}\")\n",
    "    print(classification_report(y_test.iloc[:,col], basic_preds[:,col]))\n",
    "    basic_f1_scores = basic_f1_scores.append(pd.Series(round(f1_score(y_test.iloc[:,col], basic_preds[:,col], pos_label = 1),2)))\n",
    "basic_f1_scores.index = y_test.columns\n",
    "    "
   ]
  },
  {
   "cell_type": "markdown",
   "metadata": {},
   "source": [
    "### 6. Improve your model\n",
    "Use grid search to find better parameters. "
   ]
  },
  {
   "cell_type": "code",
   "execution_count": 32,
   "metadata": {},
   "outputs": [],
   "source": [
    "parameters = {\n",
    "#    'vect__ngram_range': ((1, 1), (1, 2)),\n",
    "#    'vect__max_features': [None,100],\n",
    "    'tfidf__use_idf': (True, False),\n",
    "    #'model__n_estimators': [200, 500],\n",
    "    'model__min_samples_split': [4, 8]\n",
    "    #'model__max_features': [\"sqrt\", \"log2\"]\n",
    "}\n",
    "\n",
    "cv = GridSearchCV(basic_pipeline, param_grid = parameters, verbose=3, cv=3, scoring = \"f1_micro\")"
   ]
  },
  {
   "cell_type": "code",
   "execution_count": 33,
   "metadata": {},
   "outputs": [
    {
     "name": "stdout",
     "output_type": "stream",
     "text": [
      "Fitting 3 folds for each of 4 candidates, totalling 12 fits\n",
      "[CV] model__min_samples_split=4, tfidf__use_idf=True .................\n"
     ]
    },
    {
     "name": "stderr",
     "output_type": "stream",
     "text": [
      "[Parallel(n_jobs=1)]: Using backend SequentialBackend with 1 concurrent workers.\n"
     ]
    },
    {
     "name": "stdout",
     "output_type": "stream",
     "text": [
      "[CV]  model__min_samples_split=4, tfidf__use_idf=True, score=0.594, total= 2.1min\n",
      "[CV] model__min_samples_split=4, tfidf__use_idf=True .................\n"
     ]
    },
    {
     "name": "stderr",
     "output_type": "stream",
     "text": [
      "[Parallel(n_jobs=1)]: Done   1 out of   1 | elapsed:  2.1min remaining:    0.0s\n"
     ]
    },
    {
     "name": "stdout",
     "output_type": "stream",
     "text": [
      "[CV]  model__min_samples_split=4, tfidf__use_idf=True, score=0.600, total= 2.7min\n",
      "[CV] model__min_samples_split=4, tfidf__use_idf=True .................\n"
     ]
    },
    {
     "name": "stderr",
     "output_type": "stream",
     "text": [
      "[Parallel(n_jobs=1)]: Done   2 out of   2 | elapsed:  4.8min remaining:    0.0s\n"
     ]
    },
    {
     "name": "stdout",
     "output_type": "stream",
     "text": [
      "[CV]  model__min_samples_split=4, tfidf__use_idf=True, score=0.593, total= 2.5min\n",
      "[CV] model__min_samples_split=4, tfidf__use_idf=False ................\n",
      "[CV]  model__min_samples_split=4, tfidf__use_idf=False, score=0.595, total= 2.5min\n",
      "[CV] model__min_samples_split=4, tfidf__use_idf=False ................\n",
      "[CV]  model__min_samples_split=4, tfidf__use_idf=False, score=0.599, total= 2.4min\n",
      "[CV] model__min_samples_split=4, tfidf__use_idf=False ................\n",
      "[CV]  model__min_samples_split=4, tfidf__use_idf=False, score=0.597, total=37.0min\n",
      "[CV] model__min_samples_split=8, tfidf__use_idf=True .................\n",
      "[CV]  model__min_samples_split=8, tfidf__use_idf=True, score=0.595, total= 2.2min\n",
      "[CV] model__min_samples_split=8, tfidf__use_idf=True .................\n",
      "[CV]  model__min_samples_split=8, tfidf__use_idf=True, score=0.598, total= 2.2min\n",
      "[CV] model__min_samples_split=8, tfidf__use_idf=True .................\n",
      "[CV]  model__min_samples_split=8, tfidf__use_idf=True, score=0.594, total= 2.2min\n",
      "[CV] model__min_samples_split=8, tfidf__use_idf=False ................\n",
      "[CV]  model__min_samples_split=8, tfidf__use_idf=False, score=0.594, total= 2.1min\n",
      "[CV] model__min_samples_split=8, tfidf__use_idf=False ................\n",
      "[CV]  model__min_samples_split=8, tfidf__use_idf=False, score=0.600, total= 3.5min\n",
      "[CV] model__min_samples_split=8, tfidf__use_idf=False ................\n",
      "[CV]  model__min_samples_split=8, tfidf__use_idf=False, score=0.592, total= 2.8min\n"
     ]
    },
    {
     "name": "stderr",
     "output_type": "stream",
     "text": [
      "[Parallel(n_jobs=1)]: Done  12 out of  12 | elapsed: 64.2min finished\n"
     ]
    }
   ],
   "source": [
    "cv_basic_model = cv.fit(X_train, Y_train)"
   ]
  },
  {
   "cell_type": "markdown",
   "metadata": {},
   "source": [
    "### 7. Test your model\n",
    "Show the accuracy, precision, and recall of the tuned model.  \n",
    "\n",
    "Since this project focuses on code quality, process, and  pipelines, there is no minimum performance metric needed to pass. However, make sure to fine tune your models for accuracy, precision and recall to make your project stand out - especially for your portfolio!"
   ]
  },
  {
   "cell_type": "code",
   "execution_count": 34,
   "metadata": {},
   "outputs": [],
   "source": [
    "cv_basic_preds = cv_basic_model.predict(X_test)"
   ]
  },
  {
   "cell_type": "code",
   "execution_count": 35,
   "metadata": {},
   "outputs": [
    {
     "name": "stdout",
     "output_type": "stream",
     "text": [
      "                        precision    recall  f1-score   support\n",
      "\n",
      "               related       0.85      0.95      0.89      6012\n",
      "               request       0.83      0.50      0.63      1313\n",
      "                 offer       0.00      0.00      0.00        36\n",
      "           aid_related       0.80      0.56      0.66      3255\n",
      "          medical_help       0.64      0.01      0.03       629\n",
      "      medical_products       0.68      0.03      0.06       406\n",
      "     search_and_rescue       0.71      0.02      0.05       202\n",
      "              security       0.00      0.00      0.00       151\n",
      "              military       0.57      0.03      0.06       244\n",
      "                 water       0.86      0.25      0.39       493\n",
      "                  food       0.87      0.47      0.61       861\n",
      "               shelter       0.83      0.28      0.41       715\n",
      "              clothing       0.83      0.09      0.16       114\n",
      "                 money       0.78      0.04      0.08       174\n",
      "        missing_people       1.00      0.01      0.02        88\n",
      "              refugees       0.62      0.02      0.04       277\n",
      "                 death       0.80      0.03      0.06       373\n",
      "             other_aid       0.70      0.06      0.10      1034\n",
      "infrastructure_related       0.67      0.00      0.01       494\n",
      "             transport       0.70      0.02      0.04       346\n",
      "             buildings       0.80      0.04      0.08       403\n",
      "           electricity       0.00      0.00      0.00       168\n",
      "                 tools       0.00      0.00      0.00        51\n",
      "             hospitals       0.00      0.00      0.00        74\n",
      "                 shops       0.00      0.00      0.00        32\n",
      "           aid_centers       0.00      0.00      0.00        98\n",
      "  other_infrastructure       0.33      0.00      0.01       334\n",
      "       weather_related       0.87      0.58      0.70      2215\n",
      "                floods       0.92      0.28      0.43       663\n",
      "                 storm       0.76      0.33      0.46       735\n",
      "                  fire       0.00      0.00      0.00        83\n",
      "            earthquake       0.89      0.61      0.73       743\n",
      "                  cold       0.00      0.00      0.00       147\n",
      "         other_weather       0.67      0.02      0.04       402\n",
      "         direct_report       0.79      0.36      0.50      1522\n",
      "\n",
      "             micro avg       0.84      0.47      0.61     24887\n",
      "             macro avg       0.57      0.16      0.21     24887\n",
      "          weighted avg       0.78      0.47      0.53     24887\n",
      "           samples avg       0.68      0.44      0.49     24887\n",
      "\n"
     ]
    },
    {
     "name": "stderr",
     "output_type": "stream",
     "text": [
      "/Users/RobertSmith/PycharmProjects/disaster-response-pipeline/venv/lib/python3.8/site-packages/sklearn/metrics/_classification.py:1221: UndefinedMetricWarning: Precision and F-score are ill-defined and being set to 0.0 in labels with no predicted samples. Use `zero_division` parameter to control this behavior.\n",
      "  _warn_prf(average, modifier, msg_start, len(result))\n",
      "/Users/RobertSmith/PycharmProjects/disaster-response-pipeline/venv/lib/python3.8/site-packages/sklearn/metrics/_classification.py:1221: UndefinedMetricWarning: Precision and F-score are ill-defined and being set to 0.0 in samples with no predicted labels. Use `zero_division` parameter to control this behavior.\n",
      "  _warn_prf(average, modifier, msg_start, len(result))\n",
      "/Users/RobertSmith/PycharmProjects/disaster-response-pipeline/venv/lib/python3.8/site-packages/sklearn/metrics/_classification.py:1221: UndefinedMetricWarning: Recall and F-score are ill-defined and being set to 0.0 in samples with no true labels. Use `zero_division` parameter to control this behavior.\n",
      "  _warn_prf(average, modifier, msg_start, len(result))\n"
     ]
    }
   ],
   "source": [
    "print(classification_report(Y_test, cv_basic_preds, target_names = Y_test.columns))"
   ]
  },
  {
   "cell_type": "markdown",
   "metadata": {},
   "source": [
    "### 8. Try improving your model further. Here are a few ideas:\n",
    "* try other machine learning algorithms\n",
    "* add other features besides the TF-IDF"
   ]
  },
  {
   "cell_type": "markdown",
   "metadata": {},
   "source": [
    "### Models to Consider\n",
    "* Gradient Boosting Classifier\n",
    "* Adaboost\n",
    "* SGDClassifier\n",
    "\n",
    "### Other Features\n",
    "- GloveVectorizer"
   ]
  },
  {
   "cell_type": "code",
   "execution_count": 36,
   "metadata": {},
   "outputs": [],
   "source": [
    "# source: https://faculty.ai/blog/glove/\n",
    "%load_ext autoreload\n",
    "%autoreload 2\n",
    "import numpy as np\n",
    "import spacy\n",
    "from sklearn.base import BaseEstimator, TransformerMixin\n",
    "\n",
    "class GloveVectorizer(BaseEstimator, TransformerMixin):\n",
    "    def __init__(self, model_name=\"en_core_web_md\"):\n",
    "        self.model_name = model_name\n",
    "        self._nlp = spacy.load(model_name)\n",
    "\n",
    "    def fit(self, X, y=None):\n",
    "        return self\n",
    "\n",
    "    def transform(self, X):\n",
    "        return np.concatenate([self._nlp(doc).vector.reshape(1, -1) for doc in X])"
   ]
  },
  {
   "cell_type": "markdown",
   "metadata": {},
   "source": [
    "## Gradient Boosting Classifier "
   ]
  },
  {
   "cell_type": "code",
   "execution_count": 37,
   "metadata": {},
   "outputs": [
    {
     "data": {
      "text/plain": [
       "dict_keys(['ccp_alpha', 'criterion', 'init', 'learning_rate', 'loss', 'max_depth', 'max_features', 'max_leaf_nodes', 'min_impurity_decrease', 'min_impurity_split', 'min_samples_leaf', 'min_samples_split', 'min_weight_fraction_leaf', 'n_estimators', 'n_iter_no_change', 'presort', 'random_state', 'subsample', 'tol', 'validation_fraction', 'verbose', 'warm_start'])"
      ]
     },
     "execution_count": 37,
     "metadata": {},
     "output_type": "execute_result"
    }
   ],
   "source": [
    "GradientBoostingClassifier().get_params().keys()"
   ]
  },
  {
   "cell_type": "code",
   "execution_count": 38,
   "metadata": {},
   "outputs": [],
   "source": [
    "    tfidf_pipeline = Pipeline([\n",
    "        (\"vect\", CountVectorizer(tokenizer=tokenize)),\n",
    "        (\"tfidf\", TfidfTransformer()),\n",
    "        ('reduce_dim', TruncatedSVD())])\n",
    "\n",
    "    glove_pipeline = Pipeline([\n",
    "        (\"glove\", GloveVectorizer()),\n",
    "        (\"reduce_dim\", TruncatedSVD())])\n",
    "\n",
    "    pipeline = Pipeline([\n",
    "        (\"features\", FeatureUnion([\n",
    "            (\"tfidf_pipeline\", tfidf_pipeline),\n",
    "            (\"glove_pipeline\", glove_pipeline)\n",
    "        ])),\n",
    "        (\"model\", MultiOutputClassifier(GradientBoostingClassifier(random_state=42)))\n",
    "    ])\n",
    "\n",
    "    parameters = {\n",
    "        'features__tfidf_pipeline__reduce_dim__n_components': [100],\n",
    "        'features__tfidf_pipeline__reduce_dim__random_state': [1234],\n",
    "        'features__glove_pipeline__reduce_dim__random_state':[1234],\n",
    "        'features__glove_pipeline__reduce_dim__n_components': [50],\n",
    "        'model__estimator__max_depth': [10],\n",
    "        'model__estimator__n_estimators': [100]\n",
    "    }"
   ]
  },
  {
   "cell_type": "code",
   "execution_count": null,
   "metadata": {},
   "outputs": [
    {
     "name": "stdout",
     "output_type": "stream",
     "text": [
      "Fitting 2 folds for each of 1 candidates, totalling 2 fits\n"
     ]
    },
    {
     "name": "stderr",
     "output_type": "stream",
     "text": [
      "[Parallel(n_jobs=1)]: Using backend SequentialBackend with 1 concurrent workers.\n"
     ]
    },
    {
     "name": "stdout",
     "output_type": "stream",
     "text": [
      "[CV] features__glove_pipeline__reduce_dim__n_components=50, features__glove_pipeline__reduce_dim__random_state=1234, features__tfidf_pipeline__reduce_dim__n_components=100, features__tfidf_pipeline__reduce_dim__random_state=1234, model__estimator__max_depth=10, model__estimator__n_estimators=100 \n",
      "[CV]  features__glove_pipeline__reduce_dim__n_components=50, features__glove_pipeline__reduce_dim__random_state=1234, features__tfidf_pipeline__reduce_dim__n_components=100, features__tfidf_pipeline__reduce_dim__random_state=1234, model__estimator__max_depth=10, model__estimator__n_estimators=100, score=0.627, total=87.9min\n"
     ]
    },
    {
     "name": "stderr",
     "output_type": "stream",
     "text": [
      "[Parallel(n_jobs=1)]: Done   1 out of   1 | elapsed: 88.0min remaining:    0.0s\n"
     ]
    },
    {
     "name": "stdout",
     "output_type": "stream",
     "text": [
      "[CV] features__glove_pipeline__reduce_dim__n_components=50, features__glove_pipeline__reduce_dim__random_state=1234, features__tfidf_pipeline__reduce_dim__n_components=100, features__tfidf_pipeline__reduce_dim__random_state=1234, model__estimator__max_depth=10, model__estimator__n_estimators=100 \n",
      "[CV]  features__glove_pipeline__reduce_dim__n_components=50, features__glove_pipeline__reduce_dim__random_state=1234, features__tfidf_pipeline__reduce_dim__n_components=100, features__tfidf_pipeline__reduce_dim__random_state=1234, model__estimator__max_depth=10, model__estimator__n_estimators=100, score=0.634, total=108.7min\n"
     ]
    },
    {
     "name": "stderr",
     "output_type": "stream",
     "text": [
      "[Parallel(n_jobs=1)]: Done   2 out of   2 | elapsed: 196.8min remaining:    0.0s\n",
      "[Parallel(n_jobs=1)]: Done   2 out of   2 | elapsed: 196.8min finished\n"
     ]
    }
   ],
   "source": [
    "gbc_model_pipeline = GridSearchCV(pipeline,\n",
    "                                  param_grid=parameters,\n",
    "                                  verbose = 3,\n",
    "                                  cv = 2,\n",
    "                                  scoring = \"f1_micro\")\n",
    "\n",
    "gbc_model_pipeline.fit(X_train, Y_train)"
   ]
  },
  {
   "cell_type": "code",
   "execution_count": 43,
   "metadata": {},
   "outputs": [],
   "source": [
    "gbc_preds = gbc_model_pipeline.predict(X_test)"
   ]
  },
  {
   "cell_type": "code",
   "execution_count": 96,
   "metadata": {},
   "outputs": [
    {
     "name": "stderr",
     "output_type": "stream",
     "text": [
      "/Users/RobertSmith/PycharmProjects/disaster-response-pipeline/venv/lib/python3.8/site-packages/sklearn/metrics/_classification.py:1221: UndefinedMetricWarning: Precision and F-score are ill-defined and being set to 0.0 in samples with no predicted labels. Use `zero_division` parameter to control this behavior.\n",
      "  _warn_prf(average, modifier, msg_start, len(result))\n",
      "/Users/RobertSmith/PycharmProjects/disaster-response-pipeline/venv/lib/python3.8/site-packages/sklearn/metrics/_classification.py:1221: UndefinedMetricWarning: Recall and F-score are ill-defined and being set to 0.0 in samples with no true labels. Use `zero_division` parameter to control this behavior.\n",
      "  _warn_prf(average, modifier, msg_start, len(result))\n"
     ]
    }
   ],
   "source": [
    "print(classification_report(Y_test, gbc_preds, target_names = Y_test.columns))"
   ]
  },
  {
   "cell_type": "code",
   "execution_count": 97,
   "metadata": {},
   "outputs": [
    {
     "name": "stdout",
     "output_type": "stream",
     "text": [
      "Classification Report for: medical_products\n",
      "              precision    recall  f1-score   support\n",
      "\n",
      "           0       0.95      0.99      0.97      7447\n",
      "           1       0.57      0.15      0.24       418\n",
      "\n",
      "    accuracy                           0.95      7865\n",
      "   macro avg       0.76      0.57      0.61      7865\n",
      "weighted avg       0.93      0.95      0.93      7865\n",
      "\n",
      "Classification Report for: search_and_rescue\n",
      "              precision    recall  f1-score   support\n",
      "\n",
      "           0       0.98      1.00      0.99      7673\n",
      "           1       0.18      0.02      0.04       192\n",
      "\n",
      "    accuracy                           0.97      7865\n",
      "   macro avg       0.58      0.51      0.51      7865\n",
      "weighted avg       0.96      0.97      0.96      7865\n",
      "\n",
      "Classification Report for: security\n",
      "              precision    recall  f1-score   support\n",
      "\n",
      "           0       0.98      1.00      0.99      7721\n",
      "           1       0.05      0.01      0.02       144\n",
      "\n",
      "    accuracy                           0.98      7865\n",
      "   macro avg       0.52      0.50      0.51      7865\n",
      "weighted avg       0.96      0.98      0.97      7865\n",
      "\n",
      "Classification Report for: military\n",
      "              precision    recall  f1-score   support\n",
      "\n",
      "           0       0.98      0.99      0.98      7620\n",
      "           1       0.50      0.23      0.31       245\n",
      "\n",
      "    accuracy                           0.97      7865\n",
      "   macro avg       0.74      0.61      0.65      7865\n",
      "weighted avg       0.96      0.97      0.96      7865\n",
      "\n",
      "Classification Report for: water\n",
      "              precision    recall  f1-score   support\n",
      "\n",
      "           0       0.98      0.99      0.98      7365\n",
      "           1       0.75      0.66      0.71       500\n",
      "\n",
      "    accuracy                           0.96      7865\n",
      "   macro avg       0.87      0.82      0.84      7865\n",
      "weighted avg       0.96      0.96      0.96      7865\n",
      "\n",
      "Classification Report for: food\n",
      "              precision    recall  f1-score   support\n",
      "\n",
      "           0       0.96      0.98      0.97      6987\n",
      "           1       0.83      0.68      0.74       878\n",
      "\n",
      "    accuracy                           0.95      7865\n",
      "   macro avg       0.90      0.83      0.86      7865\n",
      "weighted avg       0.95      0.95      0.95      7865\n",
      "\n",
      "Classification Report for: shelter\n",
      "              precision    recall  f1-score   support\n",
      "\n",
      "           0       0.94      0.99      0.97      7160\n",
      "           1       0.77      0.40      0.53       705\n",
      "\n",
      "    accuracy                           0.94      7865\n",
      "   macro avg       0.85      0.70      0.75      7865\n",
      "weighted avg       0.93      0.94      0.93      7865\n",
      "\n",
      "Classification Report for: clothing\n",
      "              precision    recall  f1-score   support\n",
      "\n",
      "           0       0.99      1.00      0.99      7750\n",
      "           1       0.42      0.19      0.26       115\n",
      "\n",
      "    accuracy                           0.98      7865\n",
      "   macro avg       0.71      0.59      0.63      7865\n",
      "weighted avg       0.98      0.98      0.98      7865\n",
      "\n",
      "Classification Report for: money\n",
      "              precision    recall  f1-score   support\n",
      "\n",
      "           0       0.98      1.00      0.99      7695\n",
      "           1       0.41      0.12      0.18       170\n",
      "\n",
      "    accuracy                           0.98      7865\n",
      "   macro avg       0.69      0.56      0.59      7865\n",
      "weighted avg       0.97      0.98      0.97      7865\n",
      "\n",
      "Classification Report for: missing_people\n",
      "              precision    recall  f1-score   support\n",
      "\n",
      "           0       0.99      0.99      0.99      7773\n",
      "           1       0.02      0.01      0.01        92\n",
      "\n",
      "    accuracy                           0.98      7865\n",
      "   macro avg       0.50      0.50      0.50      7865\n",
      "weighted avg       0.98      0.98      0.98      7865\n",
      "\n",
      "Classification Report for: refugees\n",
      "              precision    recall  f1-score   support\n",
      "\n",
      "           0       0.97      1.00      0.98      7605\n",
      "           1       0.44      0.05      0.08       260\n",
      "\n",
      "    accuracy                           0.97      7865\n",
      "   macro avg       0.71      0.52      0.53      7865\n",
      "weighted avg       0.95      0.97      0.95      7865\n",
      "\n",
      "Classification Report for: death\n",
      "              precision    recall  f1-score   support\n",
      "\n",
      "           0       0.96      1.00      0.98      7499\n",
      "           1       0.71      0.20      0.31       366\n",
      "\n",
      "    accuracy                           0.96      7865\n",
      "   macro avg       0.84      0.60      0.65      7865\n",
      "weighted avg       0.95      0.96      0.95      7865\n",
      "\n",
      "Classification Report for: other_aid\n",
      "              precision    recall  f1-score   support\n",
      "\n",
      "           0       0.88      0.99      0.93      6832\n",
      "           1       0.60      0.11      0.18      1033\n",
      "\n",
      "    accuracy                           0.87      7865\n",
      "   macro avg       0.74      0.55      0.56      7865\n",
      "weighted avg       0.84      0.87      0.83      7865\n",
      "\n",
      "Classification Report for: infrastructure_related\n",
      "              precision    recall  f1-score   support\n",
      "\n",
      "           0       0.94      1.00      0.97      7360\n",
      "           1       0.56      0.03      0.05       505\n",
      "\n",
      "    accuracy                           0.94      7865\n",
      "   macro avg       0.75      0.51      0.51      7865\n",
      "weighted avg       0.91      0.94      0.91      7865\n",
      "\n",
      "Classification Report for: transport\n",
      "              precision    recall  f1-score   support\n",
      "\n",
      "           0       0.96      1.00      0.98      7503\n",
      "           1       0.59      0.04      0.07       362\n",
      "\n",
      "    accuracy                           0.95      7865\n",
      "   macro avg       0.77      0.52      0.52      7865\n",
      "weighted avg       0.94      0.95      0.93      7865\n",
      "\n",
      "Classification Report for: buildings\n",
      "              precision    recall  f1-score   support\n",
      "\n",
      "           0       0.96      1.00      0.98      7473\n",
      "           1       0.74      0.26      0.38       392\n",
      "\n",
      "    accuracy                           0.96      7865\n",
      "   macro avg       0.85      0.63      0.68      7865\n",
      "weighted avg       0.95      0.96      0.95      7865\n",
      "\n",
      "Classification Report for: electricity\n",
      "              precision    recall  f1-score   support\n",
      "\n",
      "           0       0.98      1.00      0.99      7697\n",
      "           1       0.30      0.08      0.13       168\n",
      "\n",
      "    accuracy                           0.98      7865\n",
      "   macro avg       0.64      0.54      0.56      7865\n",
      "weighted avg       0.97      0.98      0.97      7865\n",
      "\n",
      "Classification Report for: tools\n",
      "              precision    recall  f1-score   support\n",
      "\n",
      "           0       0.99      0.99      0.99      7817\n",
      "           1       0.00      0.00      0.00        48\n",
      "\n",
      "    accuracy                           0.99      7865\n",
      "   macro avg       0.50      0.50      0.50      7865\n",
      "weighted avg       0.99      0.99      0.99      7865\n",
      "\n",
      "Classification Report for: hospitals\n",
      "              precision    recall  f1-score   support\n",
      "\n",
      "           0       0.99      0.99      0.99      7787\n",
      "           1       0.04      0.03      0.03        78\n",
      "\n",
      "    accuracy                           0.98      7865\n",
      "   macro avg       0.52      0.51      0.51      7865\n",
      "weighted avg       0.98      0.98      0.98      7865\n",
      "\n",
      "Classification Report for: shops\n",
      "              precision    recall  f1-score   support\n",
      "\n",
      "           0       1.00      1.00      1.00      7837\n",
      "           1       0.04      0.04      0.04        28\n",
      "\n",
      "    accuracy                           0.99      7865\n",
      "   macro avg       0.52      0.52      0.52      7865\n",
      "weighted avg       0.99      0.99      0.99      7865\n",
      "\n",
      "Classification Report for: aid_centers\n",
      "              precision    recall  f1-score   support\n",
      "\n",
      "           0       0.99      0.99      0.99      7762\n",
      "           1       0.12      0.07      0.09       103\n",
      "\n",
      "    accuracy                           0.98      7865\n",
      "   macro avg       0.56      0.53      0.54      7865\n",
      "weighted avg       0.98      0.98      0.98      7865\n",
      "\n",
      "Classification Report for: other_infrastructure\n",
      "              precision    recall  f1-score   support\n",
      "\n",
      "           0       0.96      1.00      0.98      7524\n",
      "           1       0.25      0.02      0.03       341\n",
      "\n",
      "    accuracy                           0.96      7865\n",
      "   macro avg       0.60      0.51      0.50      7865\n",
      "weighted avg       0.93      0.96      0.94      7865\n",
      "\n",
      "Classification Report for: weather_related\n",
      "              precision    recall  f1-score   support\n",
      "\n",
      "           0       0.87      0.95      0.91      5702\n",
      "           1       0.84      0.63      0.72      2163\n",
      "\n",
      "    accuracy                           0.87      7865\n",
      "   macro avg       0.86      0.79      0.82      7865\n",
      "weighted avg       0.86      0.87      0.86      7865\n",
      "\n",
      "Classification Report for: floods\n",
      "              precision    recall  f1-score   support\n",
      "\n",
      "           0       0.95      0.99      0.97      7242\n",
      "           1       0.87      0.42      0.56       623\n",
      "\n",
      "    accuracy                           0.95      7865\n",
      "   macro avg       0.91      0.71      0.77      7865\n",
      "weighted avg       0.95      0.95      0.94      7865\n",
      "\n"
     ]
    },
    {
     "name": "stdout",
     "output_type": "stream",
     "text": [
      "Classification Report for: storm\n",
      "              precision    recall  f1-score   support\n",
      "\n",
      "           0       0.94      0.98      0.96      7127\n",
      "           1       0.72      0.41      0.53       738\n",
      "\n",
      "    accuracy                           0.93      7865\n",
      "   macro avg       0.83      0.70      0.74      7865\n",
      "weighted avg       0.92      0.93      0.92      7865\n",
      "\n",
      "Classification Report for: fire\n",
      "              precision    recall  f1-score   support\n",
      "\n",
      "           0       0.99      1.00      0.99      7782\n",
      "           1       0.03      0.01      0.02        83\n",
      "\n",
      "    accuracy                           0.99      7865\n",
      "   macro avg       0.51      0.50      0.50      7865\n",
      "weighted avg       0.98      0.99      0.98      7865\n",
      "\n",
      "Classification Report for: earthquake\n",
      "              precision    recall  f1-score   support\n",
      "\n",
      "           0       0.97      0.99      0.98      7163\n",
      "           1       0.87      0.70      0.78       702\n",
      "\n",
      "    accuracy                           0.96      7865\n",
      "   macro avg       0.92      0.85      0.88      7865\n",
      "weighted avg       0.96      0.96      0.96      7865\n",
      "\n",
      "Classification Report for: cold\n",
      "              precision    recall  f1-score   support\n",
      "\n",
      "           0       0.98      1.00      0.99      7694\n",
      "           1       0.25      0.03      0.05       171\n",
      "\n",
      "    accuracy                           0.98      7865\n",
      "   macro avg       0.61      0.51      0.52      7865\n",
      "weighted avg       0.96      0.98      0.97      7865\n",
      "\n",
      "Classification Report for: other_weather\n",
      "              precision    recall  f1-score   support\n",
      "\n",
      "           0       0.95      1.00      0.97      7450\n",
      "           1       0.00      0.00      0.00       415\n",
      "\n",
      "    accuracy                           0.95      7865\n",
      "   macro avg       0.47      0.50      0.49      7865\n",
      "weighted avg       0.90      0.95      0.92      7865\n",
      "\n",
      "Classification Report for: direct_report\n",
      "              precision    recall  f1-score   support\n",
      "\n",
      "           0       0.87      0.97      0.92      6321\n",
      "           1       0.78      0.41      0.53      1544\n",
      "\n",
      "    accuracy                           0.86      7865\n",
      "   macro avg       0.82      0.69      0.73      7865\n",
      "weighted avg       0.85      0.86      0.84      7865\n",
      "\n"
     ]
    }
   ],
   "source": [
    "category_names = Y_test.columns\n",
    "f1_scores = []\n",
    "for i in range(0,len(category_names)):\n",
    "    f1_scores.append(round(f1_score(Y_test.iloc[:,i], gbc_preds[:,i], pos_label=1), 2))\n",
    "f1_scores = pd.Series(f1_scores, index=category_names)"
   ]
  },
  {
   "cell_type": "code",
   "execution_count": 98,
   "metadata": {},
   "outputs": [
    {
     "data": {
      "image/png": "[encoded data removed]",
      "text/plain": [
       "<Figure size 720x576 with 1 Axes>"
      ]
     },
     "metadata": {
      "needs_background": "light"
     },
     "output_type": "display_data"
    }
   ],
   "source": [
    "import seaborn as sns\n",
    "plt.figure(figsize=(10,8))\n",
    "sns.barplot(x = f1_scores, \n",
    "            y = f1_scores.index, \n",
    "            order = f1_scores.sort_values(ascending=False).index);"
   ]
  },
  {
   "cell_type": "markdown",
   "metadata": {},
   "source": [
    "## Adaboost Classifier"
   ]
  },
  {
   "cell_type": "code",
   "execution_count": null,
   "metadata": {},
   "outputs": [],
   "source": [
    "parameters = {\n",
    "    'features__tfidf_pipeline__vect__ngram_range': ((1, 1), (1, 2)),\n",
    "    'features__tfidf_pipeline__vect__max_df': (0.5, 0.75, 1.0),\n",
    "    'features__tfidf_pipeline__vect__max_features': (None, 5000, 10000),\n",
    "    'features__tfidf_pipeline__tfidf__use_idf': (True, False),\n",
    "    'model__estimator__n_estimators': [50, 100, 200],\n",
    "    'model__estimator__min_samples_split': [2, 3, 4]\n",
    "}\n",
    "\n",
    "cv = GridSearchCV(pipeline, param_grid = parameters, n_jobs = -1)"
   ]
  },
  {
   "cell_type": "code",
   "execution_count": null,
   "metadata": {},
   "outputs": [],
   "source": [
    "cv_model = cv.fit(X_train, y_train)"
   ]
  },
  {
   "cell_type": "code",
   "execution_count": 11,
   "metadata": {},
   "outputs": [
    {
     "name": "stdout",
     "output_type": "stream",
     "text": [
      "Fitting 3 folds for each of 1 candidates, totalling 3 fits\n",
      "[CV] clf__estimator__learning_rate=1.2, clf__estimator__n_estimators=20 \n"
     ]
    },
    {
     "name": "stderr",
     "output_type": "stream",
     "text": [
      "[Parallel(n_jobs=1)]: Using backend SequentialBackend with 1 concurrent workers.\n"
     ]
    },
    {
     "name": "stdout",
     "output_type": "stream",
     "text": [
      "[CV]  clf__estimator__learning_rate=1.2, clf__estimator__n_estimators=20, total= 2.1min\n",
      "[CV] clf__estimator__learning_rate=1.2, clf__estimator__n_estimators=20 \n"
     ]
    },
    {
     "name": "stderr",
     "output_type": "stream",
     "text": [
      "[Parallel(n_jobs=1)]: Done   1 out of   1 | elapsed:  2.1min remaining:    0.0s\n"
     ]
    },
    {
     "name": "stdout",
     "output_type": "stream",
     "text": [
      "[CV]  clf__estimator__learning_rate=1.2, clf__estimator__n_estimators=20, total= 2.2min\n",
      "[CV] clf__estimator__learning_rate=1.2, clf__estimator__n_estimators=20 \n",
      "[CV]  clf__estimator__learning_rate=1.2, clf__estimator__n_estimators=20, total= 2.0min\n"
     ]
    },
    {
     "name": "stderr",
     "output_type": "stream",
     "text": [
      "[Parallel(n_jobs=1)]: Done   3 out of   3 | elapsed:  6.3min finished\n"
     ]
    },
    {
     "data": {
      "text/plain": [
       "GridSearchCV(cv=3,\n",
       "             estimator=Pipeline(steps=[('vect',\n",
       "                                        CountVectorizer(max_df=0.75,\n",
       "                                                        tokenizer=<function tokenize at 0x109845670>)),\n",
       "                                       ('tfidf', TfidfTransformer()),\n",
       "                                       ('clf',\n",
       "                                        MultiOutputClassifier(estimator=AdaBoostClassifier(random_state=42)))]),\n",
       "             param_grid={'clf__estimator__learning_rate': [1.2],\n",
       "                         'clf__estimator__n_estimators': [20]},\n",
       "             scoring='f1_macro', verbose=2)"
      ]
     },
     "execution_count": 11,
     "metadata": {},
     "output_type": "execute_result"
    }
   ],
   "source": [
    "model = AdaBoostClassifier(random_state=42)\n",
    "\n",
    "pipeline = Pipeline([\n",
    "    ('vect', CountVectorizer(tokenizer=tokenize, max_df = 0.75)),\n",
    "    ('tfidf', TfidfTransformer()),\n",
    "    ('clf', MultiOutputClassifier(model))\n",
    "])\n",
    "\n",
    "parameters = {'clf__estimator__n_estimators': [20],\n",
    "              'clf__estimator__learning_rate': [1.2]}\n",
    "\n",
    "\n",
    "cv = GridSearchCV(pipeline, cv=3, param_grid=parameters, scoring='f1_micro', \n",
    "                  verbose=2)\n",
    "\n",
    "\n",
    "cv.fit(X_train, Y_train)"
   ]
  },
  {
   "cell_type": "code",
   "execution_count": 12,
   "metadata": {},
   "outputs": [],
   "source": [
    "test_preds = cv.predict(X_test)"
   ]
  },
  {
   "cell_type": "code",
   "execution_count": 14,
   "metadata": {},
   "outputs": [
    {
     "name": "stderr",
     "output_type": "stream",
     "text": [
      "/Users/RobertSmith/PycharmProjects/disaster-response-pipeline/venv/lib/python3.8/site-packages/sklearn/metrics/_classification.py:1221: UndefinedMetricWarning: Precision and F-score are ill-defined and being set to 0.0 in samples with no predicted labels. Use `zero_division` parameter to control this behavior.\n",
      "  _warn_prf(average, modifier, msg_start, len(result))\n",
      "/Users/RobertSmith/PycharmProjects/disaster-response-pipeline/venv/lib/python3.8/site-packages/sklearn/metrics/_classification.py:1221: UndefinedMetricWarning: Recall and F-score are ill-defined and being set to 0.0 in samples with no true labels. Use `zero_division` parameter to control this behavior.\n",
      "  _warn_prf(average, modifier, msg_start, len(result))\n"
     ]
    }
   ],
   "source": [
    "performance_report = classification_report(Y_test, test_preds, target_names = Y_test.columns)"
   ]
  },
  {
   "cell_type": "code",
   "execution_count": 16,
   "metadata": {},
   "outputs": [
    {
     "name": "stdout",
     "output_type": "stream",
     "text": [
      "                        precision    recall  f1-score   support\n",
      "\n",
      "               related       0.79      0.98      0.87      6012\n",
      "               request       0.74      0.50      0.60      1313\n",
      "                 offer       0.12      0.03      0.05        36\n",
      "           aid_related       0.71      0.58      0.64      3255\n",
      "          medical_help       0.56      0.24      0.33       629\n",
      "      medical_products       0.65      0.25      0.36       406\n",
      "     search_and_rescue       0.63      0.20      0.30       202\n",
      "              security       0.22      0.03      0.06       151\n",
      "              military       0.47      0.26      0.34       244\n",
      "                 water       0.74      0.61      0.67       493\n",
      "                  food       0.82      0.78      0.80       861\n",
      "               shelter       0.75      0.52      0.62       715\n",
      "              clothing       0.63      0.32      0.42       114\n",
      "                 money       0.48      0.34      0.40       174\n",
      "        missing_people       0.64      0.18      0.28        88\n",
      "              refugees       0.57      0.21      0.31       277\n",
      "                 death       0.72      0.61      0.66       373\n",
      "             other_aid       0.51      0.13      0.20      1034\n",
      "infrastructure_related       0.39      0.11      0.17       494\n",
      "             transport       0.71      0.14      0.23       346\n",
      "             buildings       0.74      0.40      0.52       403\n",
      "           electricity       0.56      0.18      0.28       168\n",
      "                 tools       0.00      0.00      0.00        51\n",
      "             hospitals       0.30      0.11      0.16        74\n",
      "                 shops       0.06      0.03      0.04        32\n",
      "           aid_centers       0.26      0.08      0.12        98\n",
      "  other_infrastructure       0.29      0.06      0.10       334\n",
      "       weather_related       0.85      0.64      0.73      2215\n",
      "                floods       0.87      0.57      0.69       663\n",
      "                 storm       0.77      0.58      0.66       735\n",
      "                  fire       0.52      0.16      0.24        83\n",
      "            earthquake       0.88      0.79      0.83       743\n",
      "                  cold       0.59      0.23      0.33       147\n",
      "         other_weather       0.47      0.23      0.30       402\n",
      "         direct_report       0.67      0.38      0.49      1522\n",
      "\n",
      "             micro avg       0.75      0.58      0.66     24887\n",
      "             macro avg       0.56      0.33      0.39     24887\n",
      "          weighted avg       0.71      0.58      0.62     24887\n",
      "           samples avg       0.66      0.52      0.53     24887\n",
      "\n"
     ]
    }
   ],
   "source": [
    "print(performance_report)"
   ]
  },
  {
   "cell_type": "markdown",
   "metadata": {},
   "source": [
    "### 9. Export your model as a pickle file"
   ]
  },
  {
   "cell_type": "code",
   "execution_count": null,
   "metadata": {},
   "outputs": [],
   "source": []
  },
  {
   "cell_type": "markdown",
   "metadata": {},
   "source": [
    "### 10. Use this notebook to complete `train.py`\n",
    "Use the template file attached in the Resources folder to write a script that runs the steps above to create a database and export a model based on a new dataset specified by the user."
   ]
  },
  {
   "cell_type": "code",
   "execution_count": null,
   "metadata": {},
   "outputs": [],
   "source": []
  }
 ],
 "metadata": {
  "kernelspec": {
   "display_name": "Python 3",
   "language": "python",
   "name": "python3"
  },
  "language_info": {
   "codemirror_mode": {
    "name": "ipython",
    "version": 3
   },
   "file_extension": ".py",
   "mimetype": "text/x-python",
   "name": "python",
   "nbconvert_exporter": "python",
   "pygments_lexer": "ipython3",
   "version": "3.8.1"
  }
 },
 "nbformat": 4,
 "nbformat_minor": 2
}
